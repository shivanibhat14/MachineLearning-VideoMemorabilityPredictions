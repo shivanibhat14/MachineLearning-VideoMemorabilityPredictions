{
  "nbformat": 4,
  "nbformat_minor": 0,
  "metadata": {
    "colab": {
      "name": "Shivani_Bhat_20211408_Predicting_Memorability",
      "provenance": [],
      "collapsed_sections": [],
      "toc_visible": true
    },
    "kernelspec": {
      "display_name": "Python 3",
      "name": "python3"
    }
  },
  "cells": [
    {
      "cell_type": "markdown",
      "metadata": {
        "id": "ZWFEZejPppnx"
      },
      "source": [
        "#  CA684 Machine Learning - Media Memorability Assignment\n",
        "\n",
        "This task focuses on the problem of predicting how memorable a video is to viewers. It requires participants to automatically predict memorability scores for videos that reflect\n",
        "the probability a video will be remembered. Models will be evaluated through standard evaluation\n",
        "metrics used in ranking tasks (Spearman’s rank correlation).\n",
        "\n",
        "\n",
        "## *TABLE OF CONTENT*\n",
        "\n",
        "\n",
        "\n",
        "1. Function Definitions - Spearmans coefficient, read features (C3D , HMP)\n",
        "2. Loading dev-set in colab\n",
        "2. Data Preprocessing on Dev-set Data\n",
        "3. Model Evaluation with video precomputed features\n",
        "      *   Random Forest with C3D and HMP\n",
        "      *   Linear Regression with C3D and HMP\n",
        "      *   Neural Network with C3D and HMP\n",
        "      *   Random Forest with C3D+HMP merged\n",
        "4. Evaluating and comparing the features\n",
        "5. Predicting the Memorability scores on Test-set\n",
        "      *  Training entire 6000 Dev-set\n",
        "      *  Predicting the Scores for the 2000 Test-set\n",
        "6. Exporting the results to CSV file\n",
        "\n",
        "\n",
        "\n",
        "\n",
        "\n",
        "\n",
        "\n"
      ]
    },
    {
      "cell_type": "markdown",
      "metadata": {
        "id": "nfOHnCvXnita"
      },
      "source": [
        "**Import necessary libraries**\n"
      ]
    },
    {
      "cell_type": "code",
      "metadata": {
        "colab": {
          "base_uri": "https://localhost:8080/"
        },
        "id": "moOKNipjDWpv",
        "outputId": "608489eb-19a1-403c-9caf-f9638ceab2af"
      },
      "source": [
        "!pip install pyprind\n",
        "\n",
        "import pandas as pd\n",
        "from tensorflow.python.keras import Sequential\n",
        "from tensorflow.python.keras import layers\n",
        "from tensorflow.python.keras import regularizers\n",
        "from tensorflow.python.keras.preprocessing.text import Tokenizer\n",
        "import numpy as np\n",
        "from string import punctuation\n",
        "import pyprind\n",
        "from collections import Counter\n",
        "from sklearn.model_selection import train_test_split\n",
        "import matplotlib.pyplot as plt"
      ],
      "execution_count": 1,
      "outputs": [
        {
          "output_type": "stream",
          "text": [
            "Collecting pyprind\n",
            "  Downloading https://files.pythonhosted.org/packages/ab/b3/1f12ebc5009c65b607509393ad98240728b4401bc3593868fb161fdd3760/PyPrind-2.11.3-py2.py3-none-any.whl\n",
            "Installing collected packages: pyprind\n",
            "Successfully installed pyprind-2.11.3\n"
          ],
          "name": "stdout"
        }
      ]
    },
    {
      "cell_type": "code",
      "metadata": {
        "id": "ktbbbSL5FKBk"
      },
      "source": [
        "from sklearn.linear_model import LinearRegression\n",
        "from sklearn.neighbors import KNeighborsRegressor\n",
        "from sklearn.ensemble import RandomForestRegressor\n",
        "from sklearn.tree import DecisionTreeRegressor\n",
        "from sklearn.ensemble import VotingRegressor\n",
        "from sklearn.ensemble import AdaBoostRegressor\n",
        "from sklearn.ensemble import GradientBoostingRegressor"
      ],
      "execution_count": 31,
      "outputs": []
    },
    {
      "cell_type": "markdown",
      "metadata": {
        "id": "LubrOuR4cDdL"
      },
      "source": [
        "1. ***Function definations***: Functions for calculating Spearmans's correlation coefficient, read HMP features and C3D features"
      ]
    },
    {
      "cell_type": "code",
      "metadata": {
        "id": "uTwlAhPUNwy0"
      },
      "source": [
        "#Function to calculate Spearmans correlation coefficient\n",
        "def Get_score(Y_pred,Y_true):\n",
        "    '''Calculate the Spearmann\"s correlation coefficient'''\n",
        "    Y_pred = np.squeeze(Y_pred)\n",
        "    Y_true = np.squeeze(Y_true)\n",
        "    if Y_pred.shape != Y_true.shape:\n",
        "        print('Input shapes don\\'t match!')\n",
        "    else:\n",
        "        if len(Y_pred.shape) == 1:\n",
        "            Res = pd.DataFrame({'Y_true':Y_true,'Y_pred':Y_pred})\n",
        "            score_mat = Res[['Y_true','Y_pred']].corr(method='spearman',min_periods=1)\n",
        "            print('The Spearman\\'s correlation coefficient is: %.3f' % score_mat.iloc[1][0])\n",
        "        else:\n",
        "            for ii in range(Y_pred.shape[1]):\n",
        "                Get_score(Y_pred[:,ii],Y_true[:,ii])\n"
      ],
      "execution_count": 3,
      "outputs": []
    },
    {
      "cell_type": "code",
      "metadata": {
        "id": "aheEsa4amIgV"
      },
      "source": [
        "#fucntion to read HMP features\n",
        "def read_HMP(fname):\n",
        "    \"\"\"Scan HMP(Histogram of Motion Patterns) features from file\"\"\"\n",
        "    with open(fname) as f:\n",
        "        for line in f:\n",
        "            pairs=line.split()\n",
        "            HMP_temp = { int(p.split(':')[0]) : float(p.split(':')[1]) for p in pairs}\n",
        "    # there are 6075 bins, fill zeros\n",
        "    HMP = np.zeros(6075)\n",
        "    for idx in HMP_temp.keys():\n",
        "        HMP[idx-1] = HMP_temp[idx]            \n",
        "    return HMP"
      ],
      "execution_count": null,
      "outputs": []
    },
    {
      "cell_type": "code",
      "metadata": {
        "id": "5rv_Uq1zCo2n"
      },
      "source": [
        "#function to read InceptionV3 features\n",
        "def read_inception(fname):\n",
        "    \"\"\"Scan Inception V3 features from file\"\"\"\n",
        "    with open(fname) as f:\n",
        "        for line in f:\n",
        "            pairs=line.split()\n",
        "            incept_temp = { int(p.split(':')[0]) : float(p.split(':')[1]) for p in pairs}\n",
        "    \n",
        "    incept = np.zeros(6075)\n",
        "    for idx in incept_temp.keys():\n",
        "        incept[idx-1] = incept_temp[idx]            \n",
        "    return incept"
      ],
      "execution_count": null,
      "outputs": []
    },
    {
      "cell_type": "code",
      "metadata": {
        "id": "SOX4-sUw6OaQ"
      },
      "source": [
        "#Function to read C3D features\n",
        "def read_C3D(fname):\n",
        "    \"\"\"Scan vectors from file\"\"\"\n",
        "    with open(fname) as f:\n",
        "        for line in f:\n",
        "            C3D =[float(item) for item in line.split()] # convert to float type, using default separator\n",
        "    return C3D"
      ],
      "execution_count": null,
      "outputs": []
    },
    {
      "cell_type": "markdown",
      "metadata": {
        "id": "gDyJ0s7vn8bZ"
      },
      "source": [
        "2. ***Loading dev-set data in colab***: We need to connect information in the google drive to this colab session. This can be done by running the following lines of code and then copy the authorization code of your account. Paste the authorization code into the output shell. We must then load the features and the memorability scores."
      ]
    },
    {
      "cell_type": "code",
      "metadata": {
        "colab": {
          "base_uri": "https://localhost:8080/"
        },
        "id": "3mZ7BM-lGQiD",
        "outputId": "8c6800dc-c1d5-425a-fc74-db2c80d2876f"
      },
      "source": [
        "from google.colab import drive\n",
        "import os\n",
        "drive.mount('/content/drive/')\n",
        "os.chdir('/content/drive/My Drive/CA684_Assignment/')"
      ],
      "execution_count": 4,
      "outputs": [
        {
          "output_type": "stream",
          "text": [
            "Mounted at /content/drive/\n"
          ],
          "name": "stdout"
        }
      ]
    },
    {
      "cell_type": "code",
      "metadata": {
        "id": "NWkGp2qjDJsq"
      },
      "source": [
        "# for reproducability\n",
        "from numpy.random import seed\n",
        "seed(1)\n",
        "import tensorflow\n",
        "tensorflow.random.set_seed(1)"
      ],
      "execution_count": null,
      "outputs": []
    },
    {
      "cell_type": "code",
      "metadata": {
        "id": "l90JkURfCJlm"
      },
      "source": [
        "label_path = '/content/drive/My Drive/CA684_Assignment/Dev-set/Ground-truth/'\n",
        "labels=pd.read_csv(label_path+'ground-truth.csv')\n",
        "\n",
        "Feat_path = '/content/drive/My Drive/CA684_Assignment/Dev-set/'\n"
      ],
      "execution_count": 5,
      "outputs": []
    },
    {
      "cell_type": "code",
      "metadata": {
        "id": "mtibIfEf6u9w"
      },
      "source": [
        "HMP_Features = pd.DataFrame(columns = ['video', 'arrayInfo'])\n",
        "\n",
        "#path\n",
        "dirHMP_Dev = './Dev-set/HMP/'\n",
        "\n",
        "for eachFile in os.listdir(dirHMP_Dev):\n",
        "    if eachFile.endswith(\".txt\"):\n",
        "        path = os.path.join(dirHMP_Dev, eachFile)\n",
        "        arrayFile = readHMP(path)\n",
        "        eachFile= eachFile.replace(\".txt\",\".webm\")\n",
        "        dfHMP_Dev = dfHMP_Dev.append({'video': eachFile, 'arrayInfo': arrayFile}, ignore_index=True)\n",
        "    else:\n",
        "        break"
      ],
      "execution_count": null,
      "outputs": []
    },
    {
      "cell_type": "code",
      "metadata": {
        "id": "lsl6smwc6VDp"
      },
      "source": [
        "c3d_feature = []\n",
        "names = []\n",
        "for filename in glob.glob(\"/content/drive/MyDrive/CA684_Assignment/Dev-set/C3D/*\"):\n",
        "  c3d = read_C3D(filename)\n",
        "  c3d_feature.append(c3d)\n",
        "  names.append((filename.split('/')[-1]).split('.')[0])"
      ],
      "execution_count": null,
      "outputs": []
    },
    {
      "cell_type": "code",
      "metadata": {
        "id": "dLBatHsOodI1"
      },
      "source": [
        "file_pick='/content/drive/My Drive/'\n",
        "HMP_Pick=HMP_Features.to_pickle(file_pick+\"HMP_PICK\")"
      ],
      "execution_count": null,
      "outputs": []
    },
    {
      "cell_type": "code",
      "metadata": {
        "id": "IyAq7W7co6ij"
      },
      "source": [
        "C3D_PICK=Features.to_pickle(\"/content/drive/My Drive/C3D_PICK\")\n"
      ],
      "execution_count": null,
      "outputs": []
    },
    {
      "cell_type": "code",
      "metadata": {
        "id": "NAoW6xhiCxMV"
      },
      "source": [
        "#Load Inception Features\n",
        "df = pd.DataFrame(columns = ['video', 'arrayInfo'])\n",
        "dir_hmp = '/content/drive/My Drive/CA684_Assignment/Dev-set/InceptionV3'\n",
        "\n",
        "for filename in os.listdir(dir_hmp):\n",
        "    if filename.endswith(\".txt\"):\n",
        "        path = os.path.join(dir_hmp, filename)\n",
        "        array = read_inception(path)\n",
        "        if \"-56\" in filename:\n",
        "          filename.replace('-56','')\n",
        "          fileName= filename.replace(\".txt\",\".webm\")\n",
        "          df = df.append({'video': fileName, 'arrayInfo': array}, ignore_index=True)\n",
        "    else:\n",
        "        break"
      ],
      "execution_count": null,
      "outputs": []
    },
    {
      "cell_type": "code",
      "metadata": {
        "id": "TYjNC31lCz75"
      },
      "source": [
        "count=0\n",
        "for item in df['video']:\n",
        "  df['video'][count]=item.replace('-56.webm','.webm')\n",
        "  count = count + 1\n",
        "  "
      ],
      "execution_count": null,
      "outputs": []
    },
    {
      "cell_type": "code",
      "metadata": {
        "id": "8eNvP77rCIm5"
      },
      "source": [
        "INCEPTION_PICK=df.to_pickle(\"/content/drive/My Drive/INCEPTION_V3\")"
      ],
      "execution_count": null,
      "outputs": []
    },
    {
      "cell_type": "markdown",
      "metadata": {
        "id": "8pD2R0rj65BC"
      },
      "source": [
        "Since laoding features everytime the colab is re-connected, its easier to save the features as a pickle file and this can be read whenever required"
      ]
    },
    {
      "cell_type": "code",
      "metadata": {
        "id": "n46ZY8vVfNH7"
      },
      "source": [
        "HMP_Features = pd.read_pickle(r'/content/drive/My Drive/HMP_PICK')"
      ],
      "execution_count": 6,
      "outputs": []
    },
    {
      "cell_type": "code",
      "metadata": {
        "id": "unpUyMNRBNoL"
      },
      "source": [
        "C3D_Features = pd.read_pickle(r'/content/drive/My Drive/C3D_PICK')"
      ],
      "execution_count": 7,
      "outputs": []
    },
    {
      "cell_type": "markdown",
      "metadata": {
        "id": "2jcPcpAQnAyN"
      },
      "source": [
        "3. ***Data -preprocessing and merging***"
      ]
    },
    {
      "cell_type": "code",
      "metadata": {
        "id": "Vxt4P6zidUjT",
        "colab": {
          "base_uri": "https://localhost:8080/"
        },
        "outputId": "a3383b94-15cd-4948-f99c-58771d4218cd"
      },
      "source": [
        "C3D_Features.shape\n"
      ],
      "execution_count": null,
      "outputs": [
        {
          "output_type": "execute_result",
          "data": {
            "text/plain": [
              "(6000, 2)"
            ]
          },
          "metadata": {
            "tags": []
          },
          "execution_count": 22
        }
      ]
    },
    {
      "cell_type": "code",
      "metadata": {
        "id": "dam3YSw8HuNi",
        "colab": {
          "base_uri": "https://localhost:8080/",
          "height": 195
        },
        "outputId": "d44171cf-ffb5-4932-ef9c-3db1d86ec20b"
      },
      "source": [
        "C3D_Features.head()"
      ],
      "execution_count": null,
      "outputs": [
        {
          "output_type": "execute_result",
          "data": {
            "text/html": [
              "<div>\n",
              "<style scoped>\n",
              "    .dataframe tbody tr th:only-of-type {\n",
              "        vertical-align: middle;\n",
              "    }\n",
              "\n",
              "    .dataframe tbody tr th {\n",
              "        vertical-align: top;\n",
              "    }\n",
              "\n",
              "    .dataframe thead th {\n",
              "        text-align: right;\n",
              "    }\n",
              "</style>\n",
              "<table border=\"1\" class=\"dataframe\">\n",
              "  <thead>\n",
              "    <tr style=\"text-align: right;\">\n",
              "      <th></th>\n",
              "      <th>video</th>\n",
              "      <th>C3D</th>\n",
              "    </tr>\n",
              "  </thead>\n",
              "  <tbody>\n",
              "    <tr>\n",
              "      <th>0</th>\n",
              "      <td>video3.webm</td>\n",
              "      <td>[0.02024942, 0.0015778, 0.00082625, 0.00094509...</td>\n",
              "    </tr>\n",
              "    <tr>\n",
              "      <th>1</th>\n",
              "      <td>video4.webm</td>\n",
              "      <td>[0.000118, 0.00089075, 0.00018769, 4.543e-05, ...</td>\n",
              "    </tr>\n",
              "    <tr>\n",
              "      <th>2</th>\n",
              "      <td>video6.webm</td>\n",
              "      <td>[0.01176522, 0.00074577, 0.00078353, 1.328e-05...</td>\n",
              "    </tr>\n",
              "    <tr>\n",
              "      <th>3</th>\n",
              "      <td>video8.webm</td>\n",
              "      <td>[0.00022343, 0.00016499, 7.35e-06, 1.615e-05, ...</td>\n",
              "    </tr>\n",
              "    <tr>\n",
              "      <th>4</th>\n",
              "      <td>video10.webm</td>\n",
              "      <td>[9.006e-05, 0.00061494, 0.00343634, 0.00128092...</td>\n",
              "    </tr>\n",
              "  </tbody>\n",
              "</table>\n",
              "</div>"
            ],
            "text/plain": [
              "          video                                                C3D\n",
              "0   video3.webm  [0.02024942, 0.0015778, 0.00082625, 0.00094509...\n",
              "1   video4.webm  [0.000118, 0.00089075, 0.00018769, 4.543e-05, ...\n",
              "2   video6.webm  [0.01176522, 0.00074577, 0.00078353, 1.328e-05...\n",
              "3   video8.webm  [0.00022343, 0.00016499, 7.35e-06, 1.615e-05, ...\n",
              "4  video10.webm  [9.006e-05, 0.00061494, 0.00343634, 0.00128092..."
            ]
          },
          "metadata": {
            "tags": []
          },
          "execution_count": 23
        }
      ]
    },
    {
      "cell_type": "code",
      "metadata": {
        "id": "7evoZxJpmekp",
        "colab": {
          "base_uri": "https://localhost:8080/",
          "height": 203
        },
        "outputId": "ed95eb60-ea3f-426f-92a7-84cb09631ec5"
      },
      "source": [
        "final_feature = labels.merge(C3D_Features,on=[\"video\"],how=\"inner\")\n",
        "final_feature.head(3)"
      ],
      "execution_count": 8,
      "outputs": [
        {
          "output_type": "execute_result",
          "data": {
            "text/html": [
              "<div>\n",
              "<style scoped>\n",
              "    .dataframe tbody tr th:only-of-type {\n",
              "        vertical-align: middle;\n",
              "    }\n",
              "\n",
              "    .dataframe tbody tr th {\n",
              "        vertical-align: top;\n",
              "    }\n",
              "\n",
              "    .dataframe thead th {\n",
              "        text-align: right;\n",
              "    }\n",
              "</style>\n",
              "<table border=\"1\" class=\"dataframe\">\n",
              "  <thead>\n",
              "    <tr style=\"text-align: right;\">\n",
              "      <th></th>\n",
              "      <th>video</th>\n",
              "      <th>short-term_memorability</th>\n",
              "      <th>nb_short-term_annotations</th>\n",
              "      <th>long-term_memorability</th>\n",
              "      <th>nb_long-term_annotations</th>\n",
              "      <th>C3D</th>\n",
              "    </tr>\n",
              "  </thead>\n",
              "  <tbody>\n",
              "    <tr>\n",
              "      <th>0</th>\n",
              "      <td>video3.webm</td>\n",
              "      <td>0.924</td>\n",
              "      <td>34</td>\n",
              "      <td>0.846</td>\n",
              "      <td>13</td>\n",
              "      <td>[0.02024942, 0.0015778, 0.00082625, 0.00094509...</td>\n",
              "    </tr>\n",
              "    <tr>\n",
              "      <th>1</th>\n",
              "      <td>video4.webm</td>\n",
              "      <td>0.923</td>\n",
              "      <td>33</td>\n",
              "      <td>0.667</td>\n",
              "      <td>12</td>\n",
              "      <td>[0.000118, 0.00089075, 0.00018769, 4.543e-05, ...</td>\n",
              "    </tr>\n",
              "    <tr>\n",
              "      <th>2</th>\n",
              "      <td>video6.webm</td>\n",
              "      <td>0.863</td>\n",
              "      <td>33</td>\n",
              "      <td>0.700</td>\n",
              "      <td>10</td>\n",
              "      <td>[0.01176522, 0.00074577, 0.00078353, 1.328e-05...</td>\n",
              "    </tr>\n",
              "  </tbody>\n",
              "</table>\n",
              "</div>"
            ],
            "text/plain": [
              "         video  ...                                                C3D\n",
              "0  video3.webm  ...  [0.02024942, 0.0015778, 0.00082625, 0.00094509...\n",
              "1  video4.webm  ...  [0.000118, 0.00089075, 0.00018769, 4.543e-05, ...\n",
              "2  video6.webm  ...  [0.01176522, 0.00074577, 0.00078353, 1.328e-05...\n",
              "\n",
              "[3 rows x 6 columns]"
            ]
          },
          "metadata": {
            "tags": []
          },
          "execution_count": 8
        }
      ]
    },
    {
      "cell_type": "code",
      "metadata": {
        "id": "PcDqYdOVB4lK",
        "colab": {
          "base_uri": "https://localhost:8080/"
        },
        "outputId": "2e47d836-a585-4a36-9df5-82c9f8c605c2"
      },
      "source": [
        "len(final_feature)"
      ],
      "execution_count": null,
      "outputs": [
        {
          "output_type": "execute_result",
          "data": {
            "text/plain": [
              "6000"
            ]
          },
          "metadata": {
            "tags": []
          },
          "execution_count": 25
        }
      ]
    },
    {
      "cell_type": "code",
      "metadata": {
        "id": "RQ7o835kB8LJ",
        "colab": {
          "base_uri": "https://localhost:8080/"
        },
        "outputId": "bfca1113-6aa3-41b2-8d70-fb924a174bf6"
      },
      "source": [
        "len(final_feature['C3D'])"
      ],
      "execution_count": null,
      "outputs": [
        {
          "output_type": "execute_result",
          "data": {
            "text/plain": [
              "6000"
            ]
          },
          "metadata": {
            "tags": []
          },
          "execution_count": 26
        }
      ]
    },
    {
      "cell_type": "code",
      "metadata": {
        "id": "FPgQq-NGB_we",
        "colab": {
          "base_uri": "https://localhost:8080/"
        },
        "outputId": "a7be8c17-b16e-4002-de97-5161bf091626"
      },
      "source": [
        "final_feature['C3D'].isna().sum()"
      ],
      "execution_count": null,
      "outputs": [
        {
          "output_type": "execute_result",
          "data": {
            "text/plain": [
              "0"
            ]
          },
          "metadata": {
            "tags": []
          },
          "execution_count": 27
        }
      ]
    },
    {
      "cell_type": "code",
      "metadata": {
        "id": "nZPET5k9BbhT"
      },
      "source": [
        "final_feature.drop(['nb_short-term_annotations','nb_long-term_annotations'], axis=1,inplace=True)"
      ],
      "execution_count": 9,
      "outputs": []
    },
    {
      "cell_type": "code",
      "metadata": {
        "id": "BVLpzesUBjBU",
        "colab": {
          "base_uri": "https://localhost:8080/",
          "height": 195
        },
        "outputId": "b21f6b42-9e57-4a4a-a46a-b32ba27b7bd0"
      },
      "source": [
        "final_feature.head()"
      ],
      "execution_count": 10,
      "outputs": [
        {
          "output_type": "execute_result",
          "data": {
            "text/html": [
              "<div>\n",
              "<style scoped>\n",
              "    .dataframe tbody tr th:only-of-type {\n",
              "        vertical-align: middle;\n",
              "    }\n",
              "\n",
              "    .dataframe tbody tr th {\n",
              "        vertical-align: top;\n",
              "    }\n",
              "\n",
              "    .dataframe thead th {\n",
              "        text-align: right;\n",
              "    }\n",
              "</style>\n",
              "<table border=\"1\" class=\"dataframe\">\n",
              "  <thead>\n",
              "    <tr style=\"text-align: right;\">\n",
              "      <th></th>\n",
              "      <th>video</th>\n",
              "      <th>short-term_memorability</th>\n",
              "      <th>long-term_memorability</th>\n",
              "      <th>C3D</th>\n",
              "    </tr>\n",
              "  </thead>\n",
              "  <tbody>\n",
              "    <tr>\n",
              "      <th>0</th>\n",
              "      <td>video3.webm</td>\n",
              "      <td>0.924</td>\n",
              "      <td>0.846</td>\n",
              "      <td>[0.02024942, 0.0015778, 0.00082625, 0.00094509...</td>\n",
              "    </tr>\n",
              "    <tr>\n",
              "      <th>1</th>\n",
              "      <td>video4.webm</td>\n",
              "      <td>0.923</td>\n",
              "      <td>0.667</td>\n",
              "      <td>[0.000118, 0.00089075, 0.00018769, 4.543e-05, ...</td>\n",
              "    </tr>\n",
              "    <tr>\n",
              "      <th>2</th>\n",
              "      <td>video6.webm</td>\n",
              "      <td>0.863</td>\n",
              "      <td>0.700</td>\n",
              "      <td>[0.01176522, 0.00074577, 0.00078353, 1.328e-05...</td>\n",
              "    </tr>\n",
              "    <tr>\n",
              "      <th>3</th>\n",
              "      <td>video8.webm</td>\n",
              "      <td>0.922</td>\n",
              "      <td>0.818</td>\n",
              "      <td>[0.00022343, 0.00016499, 7.35e-06, 1.615e-05, ...</td>\n",
              "    </tr>\n",
              "    <tr>\n",
              "      <th>4</th>\n",
              "      <td>video10.webm</td>\n",
              "      <td>0.950</td>\n",
              "      <td>0.900</td>\n",
              "      <td>[9.006e-05, 0.00061494, 0.00343634, 0.00128092...</td>\n",
              "    </tr>\n",
              "  </tbody>\n",
              "</table>\n",
              "</div>"
            ],
            "text/plain": [
              "          video  ...                                                C3D\n",
              "0   video3.webm  ...  [0.02024942, 0.0015778, 0.00082625, 0.00094509...\n",
              "1   video4.webm  ...  [0.000118, 0.00089075, 0.00018769, 4.543e-05, ...\n",
              "2   video6.webm  ...  [0.01176522, 0.00074577, 0.00078353, 1.328e-05...\n",
              "3   video8.webm  ...  [0.00022343, 0.00016499, 7.35e-06, 1.615e-05, ...\n",
              "4  video10.webm  ...  [9.006e-05, 0.00061494, 0.00343634, 0.00128092...\n",
              "\n",
              "[5 rows x 4 columns]"
            ]
          },
          "metadata": {
            "tags": []
          },
          "execution_count": 10
        }
      ]
    },
    {
      "cell_type": "code",
      "metadata": {
        "id": "OXlpg1UrnMiV",
        "colab": {
          "base_uri": "https://localhost:8080/"
        },
        "outputId": "04fdfc41-5541-4683-d08e-5dbc66052953"
      },
      "source": [
        "HMP_Features.shape"
      ],
      "execution_count": null,
      "outputs": [
        {
          "output_type": "execute_result",
          "data": {
            "text/plain": [
              "(6000, 2)"
            ]
          },
          "metadata": {
            "tags": []
          },
          "execution_count": 30
        }
      ]
    },
    {
      "cell_type": "code",
      "metadata": {
        "id": "rq3xB_scnPlY",
        "colab": {
          "base_uri": "https://localhost:8080/"
        },
        "outputId": "af1555e3-11ba-4996-935b-ed443f6c5b61"
      },
      "source": [
        "HMP_Features.head"
      ],
      "execution_count": null,
      "outputs": [
        {
          "output_type": "execute_result",
          "data": {
            "text/plain": [
              "<bound method NDFrame.head of                video                                                HMP\n",
              "0        video3.webm  [0.125563, 0.024036, 0.000314, 0.0, 0.015864, ...\n",
              "1        video4.webm  [0.007526, 0.001421, 6.8e-05, 0.0, 0.001184, 0...\n",
              "2        video6.webm  [0.109584, 0.018978, 0.000289, 0.0, 0.008774, ...\n",
              "3        video8.webm  [0.120431, 0.013561, 0.000277, 0.0, 0.018974, ...\n",
              "4       video10.webm  [0.005026, 0.001356, 5.5e-05, 0.0, 0.000665, 2...\n",
              "...              ...                                                ...\n",
              "5995  video7488.webm  [0.003779, 0.001352, 7.7e-05, 0.0, 0.000475, 7...\n",
              "5996  video7489.webm  [0.001396, 0.000417, 7e-06, 0.0, 0.000145, 4e-...\n",
              "5997  video7491.webm  [0.023139, 0.007435, 0.000322, 0.0, 0.004319, ...\n",
              "5998  video7492.webm  [0.0149, 0.004607, 9.9e-05, 0.0, 0.001559, 1.4...\n",
              "5999  video7493.webm  [0.041592, 0.013047, 0.000448, 0.0, 0.010044, ...\n",
              "\n",
              "[6000 rows x 2 columns]>"
            ]
          },
          "metadata": {
            "tags": []
          },
          "execution_count": 31
        }
      ]
    },
    {
      "cell_type": "code",
      "metadata": {
        "id": "Y-6tU5aJnV2E",
        "colab": {
          "base_uri": "https://localhost:8080/",
          "height": 203
        },
        "outputId": "4915f02b-8b92-4317-f785-1a952e585ed7"
      },
      "source": [
        "final_feature_hmp=labels.merge(HMP_Features,on=[\"video\"],how=\"inner\")\n",
        "final_feature_hmp.head(3)"
      ],
      "execution_count": 11,
      "outputs": [
        {
          "output_type": "execute_result",
          "data": {
            "text/html": [
              "<div>\n",
              "<style scoped>\n",
              "    .dataframe tbody tr th:only-of-type {\n",
              "        vertical-align: middle;\n",
              "    }\n",
              "\n",
              "    .dataframe tbody tr th {\n",
              "        vertical-align: top;\n",
              "    }\n",
              "\n",
              "    .dataframe thead th {\n",
              "        text-align: right;\n",
              "    }\n",
              "</style>\n",
              "<table border=\"1\" class=\"dataframe\">\n",
              "  <thead>\n",
              "    <tr style=\"text-align: right;\">\n",
              "      <th></th>\n",
              "      <th>video</th>\n",
              "      <th>short-term_memorability</th>\n",
              "      <th>nb_short-term_annotations</th>\n",
              "      <th>long-term_memorability</th>\n",
              "      <th>nb_long-term_annotations</th>\n",
              "      <th>HMP</th>\n",
              "    </tr>\n",
              "  </thead>\n",
              "  <tbody>\n",
              "    <tr>\n",
              "      <th>0</th>\n",
              "      <td>video3.webm</td>\n",
              "      <td>0.924</td>\n",
              "      <td>34</td>\n",
              "      <td>0.846</td>\n",
              "      <td>13</td>\n",
              "      <td>[0.125563, 0.024036, 0.000314, 0.0, 0.015864, ...</td>\n",
              "    </tr>\n",
              "    <tr>\n",
              "      <th>1</th>\n",
              "      <td>video4.webm</td>\n",
              "      <td>0.923</td>\n",
              "      <td>33</td>\n",
              "      <td>0.667</td>\n",
              "      <td>12</td>\n",
              "      <td>[0.007526, 0.001421, 6.8e-05, 0.0, 0.001184, 0...</td>\n",
              "    </tr>\n",
              "    <tr>\n",
              "      <th>2</th>\n",
              "      <td>video6.webm</td>\n",
              "      <td>0.863</td>\n",
              "      <td>33</td>\n",
              "      <td>0.700</td>\n",
              "      <td>10</td>\n",
              "      <td>[0.109584, 0.018978, 0.000289, 0.0, 0.008774, ...</td>\n",
              "    </tr>\n",
              "  </tbody>\n",
              "</table>\n",
              "</div>"
            ],
            "text/plain": [
              "         video  ...                                                HMP\n",
              "0  video3.webm  ...  [0.125563, 0.024036, 0.000314, 0.0, 0.015864, ...\n",
              "1  video4.webm  ...  [0.007526, 0.001421, 6.8e-05, 0.0, 0.001184, 0...\n",
              "2  video6.webm  ...  [0.109584, 0.018978, 0.000289, 0.0, 0.008774, ...\n",
              "\n",
              "[3 rows x 6 columns]"
            ]
          },
          "metadata": {
            "tags": []
          },
          "execution_count": 11
        }
      ]
    },
    {
      "cell_type": "code",
      "metadata": {
        "id": "wGB0upzdnfg1"
      },
      "source": [
        "final_feature_hmp.drop(['nb_short-term_annotations','nb_long-term_annotations'],axis=1,inplace=True)\n"
      ],
      "execution_count": 12,
      "outputs": []
    },
    {
      "cell_type": "code",
      "metadata": {
        "id": "DHWtpx0rnpfb",
        "colab": {
          "base_uri": "https://localhost:8080/",
          "height": 195
        },
        "outputId": "49163f2f-735c-4891-e8d0-6a79e9fe4e15"
      },
      "source": [
        "final_feature_hmp.head()"
      ],
      "execution_count": 13,
      "outputs": [
        {
          "output_type": "execute_result",
          "data": {
            "text/html": [
              "<div>\n",
              "<style scoped>\n",
              "    .dataframe tbody tr th:only-of-type {\n",
              "        vertical-align: middle;\n",
              "    }\n",
              "\n",
              "    .dataframe tbody tr th {\n",
              "        vertical-align: top;\n",
              "    }\n",
              "\n",
              "    .dataframe thead th {\n",
              "        text-align: right;\n",
              "    }\n",
              "</style>\n",
              "<table border=\"1\" class=\"dataframe\">\n",
              "  <thead>\n",
              "    <tr style=\"text-align: right;\">\n",
              "      <th></th>\n",
              "      <th>video</th>\n",
              "      <th>short-term_memorability</th>\n",
              "      <th>long-term_memorability</th>\n",
              "      <th>HMP</th>\n",
              "    </tr>\n",
              "  </thead>\n",
              "  <tbody>\n",
              "    <tr>\n",
              "      <th>0</th>\n",
              "      <td>video3.webm</td>\n",
              "      <td>0.924</td>\n",
              "      <td>0.846</td>\n",
              "      <td>[0.125563, 0.024036, 0.000314, 0.0, 0.015864, ...</td>\n",
              "    </tr>\n",
              "    <tr>\n",
              "      <th>1</th>\n",
              "      <td>video4.webm</td>\n",
              "      <td>0.923</td>\n",
              "      <td>0.667</td>\n",
              "      <td>[0.007526, 0.001421, 6.8e-05, 0.0, 0.001184, 0...</td>\n",
              "    </tr>\n",
              "    <tr>\n",
              "      <th>2</th>\n",
              "      <td>video6.webm</td>\n",
              "      <td>0.863</td>\n",
              "      <td>0.700</td>\n",
              "      <td>[0.109584, 0.018978, 0.000289, 0.0, 0.008774, ...</td>\n",
              "    </tr>\n",
              "    <tr>\n",
              "      <th>3</th>\n",
              "      <td>video8.webm</td>\n",
              "      <td>0.922</td>\n",
              "      <td>0.818</td>\n",
              "      <td>[0.120431, 0.013561, 0.000277, 0.0, 0.018974, ...</td>\n",
              "    </tr>\n",
              "    <tr>\n",
              "      <th>4</th>\n",
              "      <td>video10.webm</td>\n",
              "      <td>0.950</td>\n",
              "      <td>0.900</td>\n",
              "      <td>[0.005026, 0.001356, 5.5e-05, 0.0, 0.000665, 2...</td>\n",
              "    </tr>\n",
              "  </tbody>\n",
              "</table>\n",
              "</div>"
            ],
            "text/plain": [
              "          video  ...                                                HMP\n",
              "0   video3.webm  ...  [0.125563, 0.024036, 0.000314, 0.0, 0.015864, ...\n",
              "1   video4.webm  ...  [0.007526, 0.001421, 6.8e-05, 0.0, 0.001184, 0...\n",
              "2   video6.webm  ...  [0.109584, 0.018978, 0.000289, 0.0, 0.008774, ...\n",
              "3   video8.webm  ...  [0.120431, 0.013561, 0.000277, 0.0, 0.018974, ...\n",
              "4  video10.webm  ...  [0.005026, 0.001356, 5.5e-05, 0.0, 0.000665, 2...\n",
              "\n",
              "[5 rows x 4 columns]"
            ]
          },
          "metadata": {
            "tags": []
          },
          "execution_count": 13
        }
      ]
    },
    {
      "cell_type": "code",
      "metadata": {
        "id": "HwRsGHdsCY7s"
      },
      "source": [
        "df_inception = df.merge(labels,on=[\"video\"],how=\"inner\")\n",
        "df_inception.columns\n",
        "df_inception.head()\n"
      ],
      "execution_count": null,
      "outputs": []
    },
    {
      "cell_type": "code",
      "metadata": {
        "id": "Zs56FLaJCzx8"
      },
      "source": [
        "result_array = np.empty((0, 6075))\n",
        "result_array"
      ],
      "execution_count": null,
      "outputs": []
    },
    {
      "cell_type": "code",
      "metadata": {
        "id": "FA74X_uifjAs"
      },
      "source": [
        "for line in df_inception['arrayInfo']:\n",
        "    result_array = np.append(result_array, np.array([line]), axis = 0)"
      ],
      "execution_count": null,
      "outputs": []
    },
    {
      "cell_type": "code",
      "metadata": {
        "id": "9AEv75S2fi8z"
      },
      "source": [
        "arrayInfo = df_inception['arrayInfo'].values"
      ],
      "execution_count": null,
      "outputs": []
    },
    {
      "cell_type": "code",
      "metadata": {
        "id": "1DQxUgbAfi4u"
      },
      "source": [
        "X_arrHMP = result_array\n",
        "print(type(X_arrHMP))\n"
      ],
      "execution_count": null,
      "outputs": []
    },
    {
      "cell_type": "markdown",
      "metadata": {
        "id": "dB6JFeUBmrvA"
      },
      "source": [
        "4. PART1:  ***Evaluation of data with model*** -C3D\n",
        "\n",
        "a) ***Training C3D with RandomForest***"
      ]
    },
    {
      "cell_type": "code",
      "metadata": {
        "id": "XQSlmpATmb_1"
      },
      "source": [
        "\n",
        "y = final_feature[['short-term_memorability','long-term_memorability']].values #these are our target columns\n",
        "X_C3D=np.array(final_feature['C3D'].tolist())\n"
      ],
      "execution_count": 15,
      "outputs": []
    },
    {
      "cell_type": "code",
      "metadata": {
        "id": "vRdwDQ6iMH_X"
      },
      "source": [
        "X_C3D.shape"
      ],
      "execution_count": null,
      "outputs": []
    },
    {
      "cell_type": "code",
      "metadata": {
        "id": "_aqT7klAyXJ_"
      },
      "source": [
        "from sklearn.model_selection import train_test_split\n",
        "X_train,X_test,y_train,y_test = train_test_split(X_C3D,y,test_size=0.2,random_state=42)"
      ],
      "execution_count": 16,
      "outputs": []
    },
    {
      "cell_type": "code",
      "metadata": {
        "id": "ck3bpsECyYGD",
        "colab": {
          "base_uri": "https://localhost:8080/"
        },
        "outputId": "72f53b33-d714-4e25-ca49-01dbeba1987d"
      },
      "source": [
        "print('X_train ', X_train.shape)\n",
        "print('X_test  ', X_test.shape)\n",
        "print('Y_train ', y_train.shape)\n",
        "print('Y_test  ', y_test.shape)\n"
      ],
      "execution_count": 17,
      "outputs": [
        {
          "output_type": "stream",
          "text": [
            "X_train  (4800, 101)\n",
            "X_test   (1200, 101)\n",
            "Y_train  (4800, 2)\n",
            "Y_test   (1200, 2)\n"
          ],
          "name": "stdout"
        }
      ]
    },
    {
      "cell_type": "code",
      "metadata": {
        "id": "DJa889dTKV6f",
        "colab": {
          "base_uri": "https://localhost:8080/"
        },
        "outputId": "b4a9d13c-612a-482e-f862-f28b5ef306ea"
      },
      "source": [
        "final_feature.info()"
      ],
      "execution_count": 18,
      "outputs": [
        {
          "output_type": "stream",
          "text": [
            "<class 'pandas.core.frame.DataFrame'>\n",
            "Int64Index: 6000 entries, 0 to 5999\n",
            "Data columns (total 4 columns):\n",
            " #   Column                   Non-Null Count  Dtype  \n",
            "---  ------                   --------------  -----  \n",
            " 0   video                    6000 non-null   object \n",
            " 1   short-term_memorability  6000 non-null   float64\n",
            " 2   long-term_memorability   6000 non-null   float64\n",
            " 3   C3D                      6000 non-null   object \n",
            "dtypes: float64(2), object(2)\n",
            "memory usage: 234.4+ KB\n"
          ],
          "name": "stdout"
        }
      ]
    },
    {
      "cell_type": "code",
      "metadata": {
        "id": "GZpQfOE5z8nN"
      },
      "source": [
        "\n",
        "from sklearn.ensemble import RandomForestRegressor\n",
        "captions_rf = RandomForestRegressor(n_estimators=100,random_state=45)"
      ],
      "execution_count": null,
      "outputs": []
    },
    {
      "cell_type": "code",
      "metadata": {
        "id": "JyheUWO4G2Fs"
      },
      "source": [
        "captions_rf.fit(X_train,y_train)"
      ],
      "execution_count": null,
      "outputs": []
    },
    {
      "cell_type": "code",
      "metadata": {
        "id": "ANhi39zEoG9C"
      },
      "source": [
        "Y_pred2 = captions_rf.predict(X_test)\n",
        "Get_score(Y_pred2, y_test)"
      ],
      "execution_count": null,
      "outputs": []
    },
    {
      "cell_type": "code",
      "metadata": {
        "colab": {
          "base_uri": "https://localhost:8080/"
        },
        "id": "jS5R44WBqdgM",
        "outputId": "6aade0d3-96ff-40a8-e1f1-f941123e186e"
      },
      "source": [
        "from sklearn.tree import DecisionTreeRegressor\n",
        "regressor2_c3d = DecisionTreeRegressor()\n",
        "regressor2_c3d.fit(X_train, y_train)"
      ],
      "execution_count": 19,
      "outputs": [
        {
          "output_type": "execute_result",
          "data": {
            "text/plain": [
              "DecisionTreeRegressor(ccp_alpha=0.0, criterion='mse', max_depth=None,\n",
              "                      max_features=None, max_leaf_nodes=None,\n",
              "                      min_impurity_decrease=0.0, min_impurity_split=None,\n",
              "                      min_samples_leaf=1, min_samples_split=2,\n",
              "                      min_weight_fraction_leaf=0.0, presort='deprecated',\n",
              "                      random_state=None, splitter='best')"
            ]
          },
          "metadata": {
            "tags": []
          },
          "execution_count": 19
        }
      ]
    },
    {
      "cell_type": "code",
      "metadata": {
        "colab": {
          "base_uri": "https://localhost:8080/"
        },
        "id": "-K0qenPIqdgn",
        "outputId": "fbe2fe10-de4a-4e3e-bed1-70e40f7a55ae"
      },
      "source": [
        "y_pred_c3d_DT = regressor2_c3d.predict(X_test)\n",
        "Get_score(y_pred_c3d_DT, y_test)"
      ],
      "execution_count": 20,
      "outputs": [
        {
          "output_type": "stream",
          "text": [
            "The Spearman's correlation coefficient is: 0.070\n",
            "The Spearman's correlation coefficient is: -0.017\n"
          ],
          "name": "stdout"
        }
      ]
    },
    {
      "cell_type": "markdown",
      "metadata": {
        "id": "D6ryHIKNqVI-"
      },
      "source": [
        "b) ***Training C3D with Linear Regression***"
      ]
    },
    {
      "cell_type": "code",
      "metadata": {
        "id": "Yq2h3RU3FNIm"
      },
      "source": [
        "linearRegressor = LinearRegression()\n",
        "linearRegressor.fit(X_train, y_train)\n",
        "y_pred = linearRegressor.predict(X_test)\n",
        "Get_score(y_pred, y_test)"
      ],
      "execution_count": null,
      "outputs": []
    },
    {
      "cell_type": "markdown",
      "metadata": {
        "id": "1mDV0hnyECUv"
      },
      "source": [
        "c) ***Training C3D with NeuralNetwork***"
      ]
    },
    {
      "cell_type": "code",
      "metadata": {
        "id": "qyyFQXGVEB2r"
      },
      "source": [
        "model = Sequential()\n",
        "model.add(layers.Dense(500,activation='relu',kernel_regularizer=None,input_shape=(X_C3D.shape[1],)))\n",
        "model.add(layers.Dropout(0.2))\n",
        "model.add(layers.Dense(500,activation='relu',kernel_regularizer=None))\n",
        "model.add(layers.Dropout(0.1))\n",
        "model.add(layers.Dense(500,activation='relu',kernel_regularizer=None))\n",
        "model.add(layers.Dropout(0.1))\n",
        "#model.add(layers.Dense(100,activation='relu',kernel_regularizer=regularizers.l2(0.001)))\n",
        "#model.add(layers.Dropout(0.2))\n",
        "model.add(layers.Dense(2,activation='sigmoid'))\n",
        "model.summary()\n",
        "\n",
        "\n",
        "model.compile(optimizer='rmsprop',loss=['mae'],metrics=['acc'])\n",
        "history=model.fit(x=X_train,y=y_train,batch_size=50,epochs=40,validation_split=0.2,shuffle=True,verbose=False)"
      ],
      "execution_count": null,
      "outputs": []
    },
    {
      "cell_type": "code",
      "metadata": {
        "id": "50chsEJdgfUq"
      },
      "source": [
        "y_pred = model.predict(X_test)\n",
        "Get_score(y_pred, y_test)"
      ],
      "execution_count": null,
      "outputs": []
    },
    {
      "cell_type": "markdown",
      "metadata": {
        "id": "GHOkJ-XI_tn3"
      },
      "source": [
        "d) ***Training C3D with SVR***"
      ]
    },
    {
      "cell_type": "code",
      "metadata": {
        "id": "q3IjcLnQ_s-E"
      },
      "source": [
        "X_svr = np.array(final_feature['C3D'].tolist())\n",
        "svr_y_short = final_feature[['short-term_memorability']].values\n",
        "svr_y_long = final_feature[['long-term_memorability']].values"
      ],
      "execution_count": null,
      "outputs": []
    },
    {
      "cell_type": "code",
      "metadata": {
        "id": "icMVGoea_9XX"
      },
      "source": [
        "short_X_train,short_X_test,short_y_train,short_y_test = train_test_split(X_svr,svr_y_short,test_size=0.2,random_state=40)\n",
        "long_X_train,long_X_test,long_y_train,long_y_test = train_test_split(X_svr,svr_y_long,test_size=0.2,random_state=40)"
      ],
      "execution_count": null,
      "outputs": []
    },
    {
      "cell_type": "code",
      "metadata": {
        "id": "HSo9M9R5_9Sa"
      },
      "source": [
        "\n",
        "from sklearn.preprocessing import StandardScaler\n",
        "short_X = StandardScaler()\n",
        "short_y = StandardScaler()\n",
        "short_X_train = short_X.fit_transform(short_X_train)\n",
        "short_y_train = short_y.fit_transform(short_y_train)\n",
        "long_X = StandardScaler()\n",
        "long_y = StandardScaler()\n",
        "long_X_train = long_X.fit_transform(long_X_train)\n",
        "long_y_train = long_y.fit_transform(long_y_train)"
      ],
      "execution_count": null,
      "outputs": []
    },
    {
      "cell_type": "code",
      "metadata": {
        "colab": {
          "base_uri": "https://localhost:8080/"
        },
        "id": "BrPQbtp1_9OV",
        "outputId": "111d4d74-8450-4d0e-8a78-e49d659265d8"
      },
      "source": [
        "from sklearn.svm import SVR\n",
        "short_regressor = SVR(kernel = 'rbf')\n",
        "long_regressor = SVR(kernel = 'rbf')\n",
        "short_regressor.fit(short_X_train, short_y_train)\n",
        "long_regressor.fit(long_X_train,long_y_train)"
      ],
      "execution_count": null,
      "outputs": [
        {
          "output_type": "stream",
          "text": [
            "/usr/local/lib/python3.7/dist-packages/sklearn/utils/validation.py:760: DataConversionWarning: A column-vector y was passed when a 1d array was expected. Please change the shape of y to (n_samples, ), for example using ravel().\n",
            "  y = column_or_1d(y, warn=True)\n",
            "/usr/local/lib/python3.7/dist-packages/sklearn/utils/validation.py:760: DataConversionWarning: A column-vector y was passed when a 1d array was expected. Please change the shape of y to (n_samples, ), for example using ravel().\n",
            "  y = column_or_1d(y, warn=True)\n"
          ],
          "name": "stderr"
        },
        {
          "output_type": "execute_result",
          "data": {
            "text/plain": [
              "SVR(C=1.0, cache_size=200, coef0=0.0, degree=3, epsilon=0.1, gamma='scale',\n",
              "    kernel='rbf', max_iter=-1, shrinking=True, tol=0.001, verbose=False)"
            ]
          },
          "metadata": {
            "tags": []
          },
          "execution_count": 61
        }
      ]
    },
    {
      "cell_type": "code",
      "metadata": {
        "id": "uEKv0zcLAipS"
      },
      "source": [
        "short_pred = short_regressor.predict(short_X_test)\n",
        "short_pred = short_y.inverse_transform(short_pred)\n",
        "long_pred = long_regressor.predict(long_X_test)\n",
        "long_pred = long_y.inverse_transform(long_pred)"
      ],
      "execution_count": null,
      "outputs": []
    },
    {
      "cell_type": "code",
      "metadata": {
        "colab": {
          "base_uri": "https://localhost:8080/"
        },
        "id": "A4Qqd8UFAk_w",
        "outputId": "dc8fb5ff-39da-4d88-e43d-1b9278f1ec7d"
      },
      "source": [
        "Get_score(short_pred, short_y_test)\n",
        "Get_score(long_pred, long_y_test)"
      ],
      "execution_count": null,
      "outputs": [
        {
          "output_type": "stream",
          "text": [
            "The Spearman's correlation coefficient is: 0.242\n",
            "The Spearman's correlation coefficient is: 0.107\n"
          ],
          "name": "stdout"
        }
      ]
    },
    {
      "cell_type": "markdown",
      "metadata": {
        "id": "MzgEuLZip57R"
      },
      "source": [
        "  PART2:  ***Evaluation of data with model*** -HMP"
      ]
    },
    {
      "cell_type": "markdown",
      "metadata": {
        "id": "A3-WF6rBqh4m"
      },
      "source": [
        "a) ***HMP with Random Forest***"
      ]
    },
    {
      "cell_type": "code",
      "metadata": {
        "id": "DTrr2Q9kyhfh"
      },
      "source": [
        "\n",
        "y_hmp = final_feature_hmp[['short-term_memorability','long-term_memorability']].values #these are our target columns\n",
        "X_hmp=np.array(final_feature_hmp['HMP'].tolist())"
      ],
      "execution_count": null,
      "outputs": []
    },
    {
      "cell_type": "code",
      "metadata": {
        "id": "t5dPhQLWhlh-"
      },
      "source": [
        "from sklearn.model_selection import train_test_split\n",
        "X_train_hmp,X_test_hmp,y_train_hmp,y_test_hmp = train_test_split(X_hmp,y_hmp,test_size=0.2,random_state=42)"
      ],
      "execution_count": null,
      "outputs": []
    },
    {
      "cell_type": "code",
      "metadata": {
        "id": "vxJ_VLP7qvg5"
      },
      "source": [
        "X_hmp.shape"
      ],
      "execution_count": null,
      "outputs": []
    },
    {
      "cell_type": "code",
      "metadata": {
        "id": "S-wwqGkRq1uU"
      },
      "source": [
        "hmp_rf = RandomForestRegressor(n_estimators=100,random_state=45)\n",
        "hmp_rf.fit(X_train_hmp,y_train_hmp)\n",
        "\n"
      ],
      "execution_count": null,
      "outputs": []
    },
    {
      "cell_type": "code",
      "metadata": {
        "id": "s0qlU5mLpZLl"
      },
      "source": [
        "Y_pred_hmp = hmp_rf.predict(X_test_hmp)\n",
        "Get_score(Y_pred_hmp, y_test)"
      ],
      "execution_count": null,
      "outputs": []
    },
    {
      "cell_type": "markdown",
      "metadata": {
        "id": "bzVBioTnqgTr"
      },
      "source": [
        "b) ***HMP with Linear Regression***"
      ]
    },
    {
      "cell_type": "code",
      "metadata": {
        "id": "VLFvFU6zqAjV"
      },
      "source": [
        "linearRegressor = LinearRegression()\n",
        "linearRegressor.fit(X_train_hmp, y_train_hmp)"
      ],
      "execution_count": null,
      "outputs": []
    },
    {
      "cell_type": "code",
      "metadata": {
        "id": "W3rYlMiurLqF"
      },
      "source": [
        "\n",
        "y_pred_hmp = linearRegressor.predict(X_test_hmp)\n",
        "Get_score(y_pred, y_test_hmp)"
      ],
      "execution_count": null,
      "outputs": []
    },
    {
      "cell_type": "markdown",
      "metadata": {
        "id": "oMt4l5N8qmNb"
      },
      "source": [
        "c) ***HMP with Neural Network***"
      ]
    },
    {
      "cell_type": "code",
      "metadata": {
        "id": "ySS4DLPDqzqR"
      },
      "source": [
        "model = Sequential()\n",
        "model.add(layers.Dense(500,activation='relu',kernel_regularizer=None,input_shape=(X_hmp.shape[1],)))\n",
        "model.add(layers.Dropout(0.2))\n",
        "model.add(layers.Dense(500,activation='relu',kernel_regularizer=None))\n",
        "model.add(layers.Dropout(0.1))\n",
        "model.add(layers.Dense(500,activation='relu',kernel_regularizer=None))\n",
        "model.add(layers.Dropout(0.1))\n",
        "#model.add(layers.Dense(100,activation='relu',kernel_regularizer=regularizers.l2(0.001)))\n",
        "#model.add(layers.Dropout(0.2))\n",
        "model.add(layers.Dense(2,activation='sigmoid'))\n",
        "model.summary()\n",
        "\n",
        "\n",
        "model.compile(optimizer='rmsprop',loss=['mae'],metrics=['acc'])\n",
        "history=model.fit(x=X_train_hmp,y=y_train_hmp,batch_size=50,epochs=40,validation_split=0.2,shuffle=True,verbose=False)"
      ],
      "execution_count": null,
      "outputs": []
    },
    {
      "cell_type": "code",
      "metadata": {
        "id": "kcQ_9WXvqvpG"
      },
      "source": [
        "y_pred = model.predict(X_test_hmp)\n",
        "Get_score(y_pred, y_test_hmp)"
      ],
      "execution_count": null,
      "outputs": []
    },
    {
      "cell_type": "code",
      "metadata": {
        "id": "aJF3uScyqvwL"
      },
      "source": [
        "from sklearn.tree import DecisionTreeRegressor\n",
        "regressor2_hmp = DecisionTreeRegressor()\n",
        "regressor2_hmp.fit(X_train_hmp, y_train_hmp)"
      ],
      "execution_count": null,
      "outputs": []
    },
    {
      "cell_type": "code",
      "metadata": {
        "id": "3pMPOCqHqv4e"
      },
      "source": [
        "y_pred_hmp_DT = regressor2_hmp.predict(X_test_hmp)\n",
        "Get_score(y_pred_hmp_DT, y_test_hmp)"
      ],
      "execution_count": null,
      "outputs": []
    },
    {
      "cell_type": "markdown",
      "metadata": {
        "id": "efiQpRzArQCC"
      },
      "source": [
        "PART2: ***Evaluation of data with model Merge C3D and HMP***"
      ]
    },
    {
      "cell_type": "code",
      "metadata": {
        "id": "qaxDIzjqrPmr",
        "colab": {
          "base_uri": "https://localhost:8080/",
          "height": 203
        },
        "outputId": "d21acbed-ff42-4aef-b6cc-a985a40c42e1"
      },
      "source": [
        "final_feature_hmp_C3D=final_feature.merge(HMP_Features,on=[\"video\"],how=\"inner\")\n",
        "final_feature_hmp_C3D.head(3)"
      ],
      "execution_count": 21,
      "outputs": [
        {
          "output_type": "execute_result",
          "data": {
            "text/html": [
              "<div>\n",
              "<style scoped>\n",
              "    .dataframe tbody tr th:only-of-type {\n",
              "        vertical-align: middle;\n",
              "    }\n",
              "\n",
              "    .dataframe tbody tr th {\n",
              "        vertical-align: top;\n",
              "    }\n",
              "\n",
              "    .dataframe thead th {\n",
              "        text-align: right;\n",
              "    }\n",
              "</style>\n",
              "<table border=\"1\" class=\"dataframe\">\n",
              "  <thead>\n",
              "    <tr style=\"text-align: right;\">\n",
              "      <th></th>\n",
              "      <th>video</th>\n",
              "      <th>short-term_memorability</th>\n",
              "      <th>long-term_memorability</th>\n",
              "      <th>C3D</th>\n",
              "      <th>HMP</th>\n",
              "    </tr>\n",
              "  </thead>\n",
              "  <tbody>\n",
              "    <tr>\n",
              "      <th>0</th>\n",
              "      <td>video3.webm</td>\n",
              "      <td>0.924</td>\n",
              "      <td>0.846</td>\n",
              "      <td>[0.02024942, 0.0015778, 0.00082625, 0.00094509...</td>\n",
              "      <td>[0.125563, 0.024036, 0.000314, 0.0, 0.015864, ...</td>\n",
              "    </tr>\n",
              "    <tr>\n",
              "      <th>1</th>\n",
              "      <td>video4.webm</td>\n",
              "      <td>0.923</td>\n",
              "      <td>0.667</td>\n",
              "      <td>[0.000118, 0.00089075, 0.00018769, 4.543e-05, ...</td>\n",
              "      <td>[0.007526, 0.001421, 6.8e-05, 0.0, 0.001184, 0...</td>\n",
              "    </tr>\n",
              "    <tr>\n",
              "      <th>2</th>\n",
              "      <td>video6.webm</td>\n",
              "      <td>0.863</td>\n",
              "      <td>0.700</td>\n",
              "      <td>[0.01176522, 0.00074577, 0.00078353, 1.328e-05...</td>\n",
              "      <td>[0.109584, 0.018978, 0.000289, 0.0, 0.008774, ...</td>\n",
              "    </tr>\n",
              "  </tbody>\n",
              "</table>\n",
              "</div>"
            ],
            "text/plain": [
              "         video  ...                                                HMP\n",
              "0  video3.webm  ...  [0.125563, 0.024036, 0.000314, 0.0, 0.015864, ...\n",
              "1  video4.webm  ...  [0.007526, 0.001421, 6.8e-05, 0.0, 0.001184, 0...\n",
              "2  video6.webm  ...  [0.109584, 0.018978, 0.000289, 0.0, 0.008774, ...\n",
              "\n",
              "[3 rows x 5 columns]"
            ]
          },
          "metadata": {
            "tags": []
          },
          "execution_count": 21
        }
      ]
    },
    {
      "cell_type": "code",
      "metadata": {
        "id": "PIDFNxbBsLPa"
      },
      "source": [
        "X_hmp_C3D1=np.array(final_feature_hmp_C3D['HMP'].tolist())"
      ],
      "execution_count": 22,
      "outputs": []
    },
    {
      "cell_type": "code",
      "metadata": {
        "id": "2Dx2_mXdsOsm"
      },
      "source": [
        "X_hmp_C3D2=np.array(final_feature_hmp_C3D['C3D'].tolist())"
      ],
      "execution_count": 23,
      "outputs": []
    },
    {
      "cell_type": "code",
      "metadata": {
        "id": "a4gpjca5sTqT"
      },
      "source": [
        "X_hmp_C3D_final=np.concatenate((X_hmp_C3D2,X_hmp_C3D1),axis=1)"
      ],
      "execution_count": 24,
      "outputs": []
    },
    {
      "cell_type": "code",
      "metadata": {
        "id": "f3xypMjPviO4",
        "colab": {
          "base_uri": "https://localhost:8080/"
        },
        "outputId": "6176b1c9-f444-4fcb-8bba-21dce6781469"
      },
      "source": [
        "X_hmp_C3D_final"
      ],
      "execution_count": 25,
      "outputs": [
        {
          "output_type": "execute_result",
          "data": {
            "text/plain": [
              "array([[2.0249420e-02, 1.5778000e-03, 8.2625000e-04, ..., 8.6000000e-05,\n",
              "        5.8000000e-04, 0.0000000e+00],\n",
              "       [1.1800000e-04, 8.9075000e-04, 1.8769000e-04, ..., 2.2000000e-04,\n",
              "        7.6200000e-04, 1.2240000e-03],\n",
              "       [1.1765220e-02, 7.4577000e-04, 7.8353000e-04, ..., 5.2000000e-05,\n",
              "        2.5800000e-04, 2.1500000e-04],\n",
              "       ...,\n",
              "       [2.5890000e-05, 1.2192000e-04, 2.7810000e-05, ..., 7.5600000e-04,\n",
              "        7.3800000e-04, 2.1400000e-04],\n",
              "       [2.6509121e-01, 9.6539180e-02, 5.9710000e-05, ..., 6.4000000e-05,\n",
              "        6.4000000e-05, 1.1000000e-05],\n",
              "       [2.0589490e-02, 1.2214100e-03, 2.0660700e-03, ..., 2.8900000e-04,\n",
              "        9.8800000e-04, 1.6100000e-04]])"
            ]
          },
          "metadata": {
            "tags": []
          },
          "execution_count": 25
        }
      ]
    },
    {
      "cell_type": "code",
      "metadata": {
        "id": "XY6YoU4WrPjx"
      },
      "source": [
        "y_hmp_C3D = final_feature_hmp_C3D[['short-term_memorability','long-term_memorability']].values #these are our target columns\n"
      ],
      "execution_count": 26,
      "outputs": []
    },
    {
      "cell_type": "code",
      "metadata": {
        "id": "sTKUcCLMrPgj"
      },
      "source": [
        "X_train_hmp_C3D,X_test_hmp_C3D,y_train_hmp_C3D,y_test_hmp_C3D = train_test_split(X_hmp_C3D_final,y_hmp_C3D,test_size=0.2,random_state=42)"
      ],
      "execution_count": 27,
      "outputs": []
    },
    {
      "cell_type": "code",
      "metadata": {
        "id": "DR06uYmmvQYy",
        "colab": {
          "base_uri": "https://localhost:8080/"
        },
        "outputId": "281439c2-f1c1-410f-be5b-1f466ecbf949"
      },
      "source": [
        "X_train_hmp_C3D.shape ,X_test_hmp_C3D.shape, y_train_hmp_C3D.shape, y_test_hmp_C3D.shape"
      ],
      "execution_count": 28,
      "outputs": [
        {
          "output_type": "execute_result",
          "data": {
            "text/plain": [
              "((4800, 6176), (1200, 6176), (4800, 2), (1200, 2))"
            ]
          },
          "metadata": {
            "tags": []
          },
          "execution_count": 28
        }
      ]
    },
    {
      "cell_type": "markdown",
      "metadata": {
        "id": "1i3YTVdOsmiN"
      },
      "source": [
        "a) ***Training C3D+HMP with DecisionTree***"
      ]
    },
    {
      "cell_type": "code",
      "metadata": {
        "id": "wnpJkCovrPdv",
        "colab": {
          "base_uri": "https://localhost:8080/"
        },
        "outputId": "4f92d784-2515-46dd-ec52-6d8e3135eb17"
      },
      "source": [
        "\n",
        "from sklearn.tree import DecisionTreeRegressor\n",
        "regressor2_hmp_c3d = DecisionTreeRegressor()\n",
        "regressor2_hmp_c3d.fit(X_train_hmp_C3D, y_train_hmp_C3D)\n"
      ],
      "execution_count": 29,
      "outputs": [
        {
          "output_type": "execute_result",
          "data": {
            "text/plain": [
              "DecisionTreeRegressor(ccp_alpha=0.0, criterion='mse', max_depth=None,\n",
              "                      max_features=None, max_leaf_nodes=None,\n",
              "                      min_impurity_decrease=0.0, min_impurity_split=None,\n",
              "                      min_samples_leaf=1, min_samples_split=2,\n",
              "                      min_weight_fraction_leaf=0.0, presort='deprecated',\n",
              "                      random_state=None, splitter='best')"
            ]
          },
          "metadata": {
            "tags": []
          },
          "execution_count": 29
        }
      ]
    },
    {
      "cell_type": "code",
      "metadata": {
        "id": "uHNRfFkYrPax"
      },
      "source": [
        "y_pred_hmp_c3d_DT = regressor2_hmp_c3d.predict(X_test_hmp_C3D)\n",
        "Get_score(y_pred_hmp_c3d_DT, y_test_hmp_C3D)"
      ],
      "execution_count": null,
      "outputs": []
    },
    {
      "cell_type": "markdown",
      "metadata": {
        "id": "FVTDA7xHD5XN"
      },
      "source": [
        "b) ***Training C3D+HMP with RandomForest***"
      ]
    },
    {
      "cell_type": "code",
      "metadata": {
        "id": "OZIDwZI0rPSX"
      },
      "source": [
        "from sklearn.ensemble import RandomForestRegressor\n",
        "hmp_c3d_rf = RandomForestRegressor(n_estimators=100,random_state=45)"
      ],
      "execution_count": null,
      "outputs": []
    },
    {
      "cell_type": "code",
      "metadata": {
        "id": "BISR6fMgx5L9"
      },
      "source": [
        "\n",
        "hmp_c3d_rf.fit(X_train_hmp_C3D,y_train_hmp_C3D)"
      ],
      "execution_count": null,
      "outputs": []
    },
    {
      "cell_type": "code",
      "metadata": {
        "id": "mTtsqPqCx5H9"
      },
      "source": [
        "y_pred_hmp_c3d_RF = hmp_c3d_rf.predict(X_test_hmp_C3D)\n",
        "Get_score(y_pred_hmp_c3d_RF, y_test_hmp_C3D)"
      ],
      "execution_count": null,
      "outputs": []
    },
    {
      "cell_type": "markdown",
      "metadata": {
        "id": "t-xCQitcAtXY"
      },
      "source": [
        "c) ***Model training of C3D+HMP with SVR***"
      ]
    },
    {
      "cell_type": "code",
      "metadata": {
        "id": "1Ke5h2_FAs7m"
      },
      "source": [
        "svr_X = X_hmp_C3D_final\n",
        "svr_y_short = final_feature[['short-term_memorability']].values\n",
        "svr_y_long = final_feature[['long-term_memorability']].values"
      ],
      "execution_count": null,
      "outputs": []
    },
    {
      "cell_type": "code",
      "metadata": {
        "id": "Bs25HD_6A9Kk"
      },
      "source": [
        "#Splitting the dataset into the Training set and Test set\n",
        "short_X_train,short_X_test,short_y_train,short_y_test = train_test_split(svr_X,svr_y_short,test_size=0.2,random_state=40)\n",
        "long_X_train,long_X_test,long_y_train,long_y_test = train_test_split(svr_X,svr_y_long,test_size=0.2,random_state=40)"
      ],
      "execution_count": null,
      "outputs": []
    },
    {
      "cell_type": "code",
      "metadata": {
        "id": "LVvDAXwmA9Gv"
      },
      "source": [
        "short_X = StandardScaler()\n",
        "short_y = StandardScaler()\n",
        "short_X_train = short_X.fit_transform(short_X_train)\n",
        "short_y_train = short_y.fit_transform(short_y_train)\n",
        "long_X = StandardScaler()\n",
        "long_y = StandardScaler()\n",
        "long_X_train = long_X.fit_transform(long_X_train)\n",
        "long_y_train = long_y.fit_transform(long_y_train)"
      ],
      "execution_count": null,
      "outputs": []
    },
    {
      "cell_type": "code",
      "metadata": {
        "colab": {
          "base_uri": "https://localhost:8080/"
        },
        "id": "OPEF-zBkA9D2",
        "outputId": "cf731116-ca40-4e57-9162-1e342333dec4"
      },
      "source": [
        "from sklearn.svm import SVR\n",
        "short_regressor = SVR(kernel = 'rbf')\n",
        "long_regressor = SVR(kernel = 'rbf')\n",
        "short_regressor.fit(short_X_train, short_y_train)\n",
        "long_regressor.fit(long_X_train,long_y_train)"
      ],
      "execution_count": null,
      "outputs": [
        {
          "output_type": "stream",
          "text": [
            "/usr/local/lib/python3.7/dist-packages/sklearn/utils/validation.py:760: DataConversionWarning: A column-vector y was passed when a 1d array was expected. Please change the shape of y to (n_samples, ), for example using ravel().\n",
            "  y = column_or_1d(y, warn=True)\n",
            "/usr/local/lib/python3.7/dist-packages/sklearn/utils/validation.py:760: DataConversionWarning: A column-vector y was passed when a 1d array was expected. Please change the shape of y to (n_samples, ), for example using ravel().\n",
            "  y = column_or_1d(y, warn=True)\n"
          ],
          "name": "stderr"
        },
        {
          "output_type": "execute_result",
          "data": {
            "text/plain": [
              "SVR(C=1.0, cache_size=200, coef0=0.0, degree=3, epsilon=0.1, gamma='scale',\n",
              "    kernel='rbf', max_iter=-1, shrinking=True, tol=0.001, verbose=False)"
            ]
          },
          "metadata": {
            "tags": []
          },
          "execution_count": 67
        }
      ]
    },
    {
      "cell_type": "code",
      "metadata": {
        "id": "HGdu5ctZA9A1"
      },
      "source": [
        "short_pred = short_regressor.predict(short_X_test)\n",
        "short_pred = short_y.inverse_transform(short_pred)\n",
        "long_pred = long_regressor.predict(long_X_test)\n",
        "long_pred = long_y.inverse_transform(long_pred)"
      ],
      "execution_count": null,
      "outputs": []
    },
    {
      "cell_type": "code",
      "metadata": {
        "colab": {
          "base_uri": "https://localhost:8080/"
        },
        "id": "uwS08dU0BFp7",
        "outputId": "5e3c6c97-0c6f-4eaa-c009-b504241fd840"
      },
      "source": [
        "Get_score(short_pred, short_y_test)\n",
        "Get_score(long_pred, long_y_test)"
      ],
      "execution_count": null,
      "outputs": [
        {
          "output_type": "stream",
          "text": [
            "The Spearman's correlation coefficient is: 0.206\n",
            "The Spearman's correlation coefficient is: 0.117\n"
          ],
          "name": "stdout"
        }
      ]
    },
    {
      "cell_type": "markdown",
      "metadata": {
        "id": "eeSHzf76syGW"
      },
      "source": [
        "d) ***Model training with Linear Regression***"
      ]
    },
    {
      "cell_type": "code",
      "metadata": {
        "colab": {
          "base_uri": "https://localhost:8080/"
        },
        "id": "d5yJLGYXrSMl",
        "outputId": "3837c780-e495-4bde-e11e-e626063ae63c"
      },
      "source": [
        "linearRegressor = LinearRegression()\n",
        "linearRegressor.fit(X_train_hmp_C3D, y_train_hmp_C3D)"
      ],
      "execution_count": 33,
      "outputs": [
        {
          "output_type": "execute_result",
          "data": {
            "text/plain": [
              "LinearRegression(copy_X=True, fit_intercept=True, n_jobs=None, normalize=False)"
            ]
          },
          "metadata": {
            "tags": []
          },
          "execution_count": 33
        }
      ]
    },
    {
      "cell_type": "code",
      "metadata": {
        "colab": {
          "base_uri": "https://localhost:8080/"
        },
        "id": "ycGAfLzdrSMp",
        "outputId": "1fa8aed0-0077-42b0-f871-2db1efe3fb96"
      },
      "source": [
        "\n",
        "y_pred_hmp_c3d = linearRegressor.predict(X_test_hmp_C3D)\n",
        "Get_score(y_pred_hmp_c3d, y_test_hmp_C3D)"
      ],
      "execution_count": 34,
      "outputs": [
        {
          "output_type": "stream",
          "text": [
            "The Spearman's correlation coefficient is: -0.011\n",
            "The Spearman's correlation coefficient is: 0.012\n"
          ],
          "name": "stdout"
        }
      ]
    },
    {
      "cell_type": "markdown",
      "metadata": {
        "id": "UOvjlptCE8Fp"
      },
      "source": [
        "***PART3: Evaluation of data with model -InceptionV3*** **bold text**"
      ]
    },
    {
      "cell_type": "code",
      "metadata": {
        "id": "XMZmQfz6fiz4"
      },
      "source": [
        "Y=df_inception[['short-term_memorability','long-term_memorability']].values  #targets\n",
        "X=X_arrHMP #input"
      ],
      "execution_count": null,
      "outputs": []
    },
    {
      "cell_type": "code",
      "metadata": {
        "id": "cSaLQXt4fit5"
      },
      "source": [
        "X_train_inception, X_test_inception, Y_train_inception, Y_test_inception = train_test_split(X,Y, test_size=0.2, random_state=42) # random state for reproducability"
      ],
      "execution_count": null,
      "outputs": []
    },
    {
      "cell_type": "code",
      "metadata": {
        "id": "9LPcaE78hKzd"
      },
      "source": [
        "from sklearn.ensemble import RandomForestRegressor\n",
        "inception_rf = RandomForestRegressor(n_estimators=500,random_state=45)"
      ],
      "execution_count": null,
      "outputs": []
    },
    {
      "cell_type": "code",
      "metadata": {
        "id": "TEv4c2O3hKvm"
      },
      "source": [
        "inception_rf.fit(X_train_inception,Y_train_inception)"
      ],
      "execution_count": null,
      "outputs": []
    },
    {
      "cell_type": "code",
      "metadata": {
        "id": "IHAKduZ-hKrm"
      },
      "source": [
        "inception_pred=inception_rf.predict(X_test_inception)\n",
        "Get_score(inception_pred,Y_test_inception)"
      ],
      "execution_count": null,
      "outputs": []
    },
    {
      "cell_type": "markdown",
      "metadata": {
        "id": "7N9SptqXlK8i"
      },
      "source": [
        "#Predicting Results"
      ]
    },
    {
      "cell_type": "markdown",
      "metadata": {
        "id": "mey0EUBvydbu"
      },
      "source": [
        "We have to train our selected model on 6000 Dev-set and use this to make predictions on Test-Set"
      ]
    },
    {
      "cell_type": "markdown",
      "metadata": {
        "id": "KETcOBrdk0-f"
      },
      "source": [
        "We will import our submission csv file and predict the short term and long term memorability score"
      ]
    },
    {
      "cell_type": "code",
      "metadata": {
        "id": "hgd5ApP7DoDY"
      },
      "source": [
        "X_C3D_HMP=X_hmp_C3D_final\n",
        "Y_C3D_HMP=final_feature_hmp_C3D[['short-term_memorability','long-term_memorability']].values "
      ],
      "execution_count": null,
      "outputs": []
    },
    {
      "cell_type": "code",
      "metadata": {
        "id": "RnfTM1fTDS44"
      },
      "source": [
        "from sklearn.ensemble import RandomForestRegressor\n",
        "hmp_c3d_rf_train = RandomForestRegressor(n_estimators=100,random_state=45)"
      ],
      "execution_count": null,
      "outputs": []
    },
    {
      "cell_type": "code",
      "metadata": {
        "colab": {
          "base_uri": "https://localhost:8080/"
        },
        "id": "dwtvf9ZEDS0-",
        "outputId": "12f58783-22e8-4db9-8bf9-f5dfa7a08dea"
      },
      "source": [
        "hmp_c3d_rf.fit(X_C3D_HMP,Y_C3D_HMP)"
      ],
      "execution_count": null,
      "outputs": [
        {
          "output_type": "execute_result",
          "data": {
            "text/plain": [
              "RandomForestRegressor(bootstrap=True, ccp_alpha=0.0, criterion='mse',\n",
              "                      max_depth=None, max_features='auto', max_leaf_nodes=None,\n",
              "                      max_samples=None, min_impurity_decrease=0.0,\n",
              "                      min_impurity_split=None, min_samples_leaf=1,\n",
              "                      min_samples_split=2, min_weight_fraction_leaf=0.0,\n",
              "                      n_estimators=100, n_jobs=None, oob_score=False,\n",
              "                      random_state=45, verbose=0, warm_start=False)"
            ]
          },
          "metadata": {
            "tags": []
          },
          "execution_count": 76
        }
      ]
    },
    {
      "cell_type": "code",
      "metadata": {
        "id": "qK9R0kP8O9C6"
      },
      "source": [
        "#creating a new dataframe\n",
        "hmp_test = pd.DataFrame(columns = ['video', 'arrayInfo'])\n",
        "\n",
        "#path\n",
        "dirHMP_Dev = './Test-set/HMP_test/'\n",
        "\n",
        "for eachFile in os.listdir(dirHMP_Dev):\n",
        "    if eachFile.endswith(\".txt\"):\n",
        "        path = os.path.join(dirHMP_Dev, eachFile)\n",
        "        arrayFile = read_HMP(path)\n",
        "        eachFile= eachFile.replace(\" \",\".webm\")\n",
        "        hmp_test = hmp_test.append({'video':eachFile, 'arrayInfo': arrayFile}, ignore_index=True)\n",
        "    else:\n",
        "        break"
      ],
      "execution_count": null,
      "outputs": []
    },
    {
      "cell_type": "code",
      "metadata": {
        "colab": {
          "base_uri": "https://localhost:8080/",
          "height": 402
        },
        "id": "OWueimSmYJCg",
        "outputId": "fd426e5e-476f-40a8-8ff1-60f1df1e6f7a"
      },
      "source": [
        "hmp_test"
      ],
      "execution_count": null,
      "outputs": [
        {
          "output_type": "execute_result",
          "data": {
            "text/html": [
              "<div>\n",
              "<style scoped>\n",
              "    .dataframe tbody tr th:only-of-type {\n",
              "        vertical-align: middle;\n",
              "    }\n",
              "\n",
              "    .dataframe tbody tr th {\n",
              "        vertical-align: top;\n",
              "    }\n",
              "\n",
              "    .dataframe thead th {\n",
              "        text-align: right;\n",
              "    }\n",
              "</style>\n",
              "<table border=\"1\" class=\"dataframe\">\n",
              "  <thead>\n",
              "    <tr style=\"text-align: right;\">\n",
              "      <th></th>\n",
              "      <th>video</th>\n",
              "      <th>arrayInfo</th>\n",
              "    </tr>\n",
              "  </thead>\n",
              "  <tbody>\n",
              "    <tr>\n",
              "      <th>0</th>\n",
              "      <td>8763</td>\n",
              "      <td>[0.00206, 0.000583, 1.1e-05, 0.0, 0.000395, 3....</td>\n",
              "    </tr>\n",
              "    <tr>\n",
              "      <th>1</th>\n",
              "      <td>8758</td>\n",
              "      <td>[0.015623, 0.005571, 0.000267, 0.0, 0.003743, ...</td>\n",
              "    </tr>\n",
              "    <tr>\n",
              "      <th>2</th>\n",
              "      <td>8768</td>\n",
              "      <td>[0.00533, 0.001166, 2e-06, 0.0, 0.000927, 1.1e...</td>\n",
              "    </tr>\n",
              "    <tr>\n",
              "      <th>3</th>\n",
              "      <td>8764</td>\n",
              "      <td>[0.040748, 0.016237, 0.000303, 0.0, 0.007668, ...</td>\n",
              "    </tr>\n",
              "    <tr>\n",
              "      <th>4</th>\n",
              "      <td>8760</td>\n",
              "      <td>[0.056045, 0.012873, 0.000278, 0.0, 0.006645, ...</td>\n",
              "    </tr>\n",
              "    <tr>\n",
              "      <th>...</th>\n",
              "      <td>...</td>\n",
              "      <td>...</td>\n",
              "    </tr>\n",
              "    <tr>\n",
              "      <th>1995</th>\n",
              "      <td>8750</td>\n",
              "      <td>[0.029441, 0.00459, 6.1e-05, 0.0, 0.004635, 4....</td>\n",
              "    </tr>\n",
              "    <tr>\n",
              "      <th>1996</th>\n",
              "      <td>8754</td>\n",
              "      <td>[0.008008, 0.002233, 6.6e-05, 0.0, 0.000694, 8...</td>\n",
              "    </tr>\n",
              "    <tr>\n",
              "      <th>1997</th>\n",
              "      <td>8756</td>\n",
              "      <td>[0.045778, 0.008935, 0.000138, 0.0, 0.006778, ...</td>\n",
              "    </tr>\n",
              "    <tr>\n",
              "      <th>1998</th>\n",
              "      <td>8755</td>\n",
              "      <td>[0.009722, 0.001544, 9e-05, 0.0, 0.000899, 7e-...</td>\n",
              "    </tr>\n",
              "    <tr>\n",
              "      <th>1999</th>\n",
              "      <td>8757</td>\n",
              "      <td>[0.023544, 0.00575, 0.000264, 0.0, 0.003801, 0...</td>\n",
              "    </tr>\n",
              "  </tbody>\n",
              "</table>\n",
              "<p>2000 rows × 2 columns</p>\n",
              "</div>"
            ],
            "text/plain": [
              "     video                                          arrayInfo\n",
              "0     8763  [0.00206, 0.000583, 1.1e-05, 0.0, 0.000395, 3....\n",
              "1     8758  [0.015623, 0.005571, 0.000267, 0.0, 0.003743, ...\n",
              "2     8768  [0.00533, 0.001166, 2e-06, 0.0, 0.000927, 1.1e...\n",
              "3     8764  [0.040748, 0.016237, 0.000303, 0.0, 0.007668, ...\n",
              "4     8760  [0.056045, 0.012873, 0.000278, 0.0, 0.006645, ...\n",
              "...    ...                                                ...\n",
              "1995  8750  [0.029441, 0.00459, 6.1e-05, 0.0, 0.004635, 4....\n",
              "1996  8754  [0.008008, 0.002233, 6.6e-05, 0.0, 0.000694, 8...\n",
              "1997  8756  [0.045778, 0.008935, 0.000138, 0.0, 0.006778, ...\n",
              "1998  8755  [0.009722, 0.001544, 9e-05, 0.0, 0.000899, 7e-...\n",
              "1999  8757  [0.023544, 0.00575, 0.000264, 0.0, 0.003801, 0...\n",
              "\n",
              "[2000 rows x 2 columns]"
            ]
          },
          "metadata": {
            "tags": []
          },
          "execution_count": 128
        }
      ]
    },
    {
      "cell_type": "code",
      "metadata": {
        "id": "PXvlChaSjsoq"
      },
      "source": [
        "hmp_test['video']=hmp_test['video'].str.replace('.txt','')"
      ],
      "execution_count": null,
      "outputs": []
    },
    {
      "cell_type": "code",
      "metadata": {
        "id": "jXNLN1W_kCph"
      },
      "source": [
        "hmp_test['video']=hmp_test['video'].str.replace('video','')"
      ],
      "execution_count": null,
      "outputs": []
    },
    {
      "cell_type": "code",
      "metadata": {
        "id": "6BLX4zt8YKFf"
      },
      "source": [
        "\n",
        "c3d_test=pd.read_pickle(r'/content/drive/My Drive/c3d')"
      ],
      "execution_count": null,
      "outputs": []
    },
    {
      "cell_type": "code",
      "metadata": {
        "id": "mWdZ9xyweiaM"
      },
      "source": [
        "\n",
        "c3d_test['video']=c3d_test['video'].str.replace('video','')"
      ],
      "execution_count": null,
      "outputs": []
    },
    {
      "cell_type": "code",
      "metadata": {
        "colab": {
          "base_uri": "https://localhost:8080/",
          "height": 402
        },
        "id": "OA5-eobVkReH",
        "outputId": "f2687f4c-ca87-425a-8d1f-3920dff4f77b"
      },
      "source": [
        "c3d_test"
      ],
      "execution_count": null,
      "outputs": [
        {
          "output_type": "execute_result",
          "data": {
            "text/html": [
              "<div>\n",
              "<style scoped>\n",
              "    .dataframe tbody tr th:only-of-type {\n",
              "        vertical-align: middle;\n",
              "    }\n",
              "\n",
              "    .dataframe tbody tr th {\n",
              "        vertical-align: top;\n",
              "    }\n",
              "\n",
              "    .dataframe thead th {\n",
              "        text-align: right;\n",
              "    }\n",
              "</style>\n",
              "<table border=\"1\" class=\"dataframe\">\n",
              "  <thead>\n",
              "    <tr style=\"text-align: right;\">\n",
              "      <th></th>\n",
              "      <th>video</th>\n",
              "      <th>c3d</th>\n",
              "    </tr>\n",
              "  </thead>\n",
              "  <tbody>\n",
              "    <tr>\n",
              "      <th>0</th>\n",
              "      <td>8768</td>\n",
              "      <td>[0.00352624, 0.00137636, 0.04618705, 7.76e-06,...</td>\n",
              "    </tr>\n",
              "    <tr>\n",
              "      <th>1</th>\n",
              "      <td>8759</td>\n",
              "      <td>[0.00777159, 0.00230215, 0.00367146, 4.773e-05...</td>\n",
              "    </tr>\n",
              "    <tr>\n",
              "      <th>2</th>\n",
              "      <td>8762</td>\n",
              "      <td>[0.00157295, 0.00139808, 0.07172299, 2.488e-05...</td>\n",
              "    </tr>\n",
              "    <tr>\n",
              "      <th>3</th>\n",
              "      <td>8765</td>\n",
              "      <td>[0.00035768, 0.00397286, 0.0088033, 0.00774053...</td>\n",
              "    </tr>\n",
              "    <tr>\n",
              "      <th>4</th>\n",
              "      <td>8758</td>\n",
              "      <td>[1.11e-06, 1.151e-05, 2.465e-05, 1.226e-05, 5....</td>\n",
              "    </tr>\n",
              "    <tr>\n",
              "      <th>...</th>\n",
              "      <td>...</td>\n",
              "      <td>...</td>\n",
              "    </tr>\n",
              "    <tr>\n",
              "      <th>1995</th>\n",
              "      <td>8752</td>\n",
              "      <td>[4.11e-06, 1.25e-05, 0.00177378, 2.24e-06, 3.9...</td>\n",
              "    </tr>\n",
              "    <tr>\n",
              "      <th>1996</th>\n",
              "      <td>8749</td>\n",
              "      <td>[0.00024979, 0.00022802, 0.00010895, 0.0042621...</td>\n",
              "    </tr>\n",
              "    <tr>\n",
              "      <th>1997</th>\n",
              "      <td>8755</td>\n",
              "      <td>[0.0002111, 0.00581559, 0.0002334, 0.00377348,...</td>\n",
              "    </tr>\n",
              "    <tr>\n",
              "      <th>1998</th>\n",
              "      <td>8756</td>\n",
              "      <td>[0.00214498, 0.03588087, 0.00023955, 0.0, 1.72...</td>\n",
              "    </tr>\n",
              "    <tr>\n",
              "      <th>1999</th>\n",
              "      <td>8757</td>\n",
              "      <td>[0.00102729, 8.806e-05, 0.00010535, 6e-08, 1.1...</td>\n",
              "    </tr>\n",
              "  </tbody>\n",
              "</table>\n",
              "<p>2000 rows × 2 columns</p>\n",
              "</div>"
            ],
            "text/plain": [
              "     video                                                c3d\n",
              "0     8768  [0.00352624, 0.00137636, 0.04618705, 7.76e-06,...\n",
              "1     8759  [0.00777159, 0.00230215, 0.00367146, 4.773e-05...\n",
              "2     8762  [0.00157295, 0.00139808, 0.07172299, 2.488e-05...\n",
              "3     8765  [0.00035768, 0.00397286, 0.0088033, 0.00774053...\n",
              "4     8758  [1.11e-06, 1.151e-05, 2.465e-05, 1.226e-05, 5....\n",
              "...    ...                                                ...\n",
              "1995  8752  [4.11e-06, 1.25e-05, 0.00177378, 2.24e-06, 3.9...\n",
              "1996  8749  [0.00024979, 0.00022802, 0.00010895, 0.0042621...\n",
              "1997  8755  [0.0002111, 0.00581559, 0.0002334, 0.00377348,...\n",
              "1998  8756  [0.00214498, 0.03588087, 0.00023955, 0.0, 1.72...\n",
              "1999  8757  [0.00102729, 8.806e-05, 0.00010535, 6e-08, 1.1...\n",
              "\n",
              "[2000 rows x 2 columns]"
            ]
          },
          "metadata": {
            "tags": []
          },
          "execution_count": 131
        }
      ]
    },
    {
      "cell_type": "code",
      "metadata": {
        "id": "YGlgBLpaSxs0"
      },
      "source": [
        "c3d_test=c3d_test.rename(columns = {'Name': 'video'}, inplace = False)"
      ],
      "execution_count": null,
      "outputs": []
    },
    {
      "cell_type": "code",
      "metadata": {
        "id": "ahNduHHdejKL"
      },
      "source": [
        "final_feature_hmp_C3D_test=hmp_test.merge(c3d_test,on=[\"video\"],how=\"inner\")\n",
        "\n",
        "final_feature_hmp_C3D_test = final_feature_hmp_C3D_test.rename(columns = {'arrayInfo': 'HMP'}, inplace = False)"
      ],
      "execution_count": null,
      "outputs": []
    },
    {
      "cell_type": "code",
      "metadata": {
        "colab": {
          "base_uri": "https://localhost:8080/",
          "height": 402
        },
        "id": "WkhME4d3khZU",
        "outputId": "6a8c03bc-ce67-4fb6-a869-aa101a966916"
      },
      "source": [
        "final_feature_hmp_C3D_test"
      ],
      "execution_count": null,
      "outputs": [
        {
          "output_type": "execute_result",
          "data": {
            "text/html": [
              "<div>\n",
              "<style scoped>\n",
              "    .dataframe tbody tr th:only-of-type {\n",
              "        vertical-align: middle;\n",
              "    }\n",
              "\n",
              "    .dataframe tbody tr th {\n",
              "        vertical-align: top;\n",
              "    }\n",
              "\n",
              "    .dataframe thead th {\n",
              "        text-align: right;\n",
              "    }\n",
              "</style>\n",
              "<table border=\"1\" class=\"dataframe\">\n",
              "  <thead>\n",
              "    <tr style=\"text-align: right;\">\n",
              "      <th></th>\n",
              "      <th>video</th>\n",
              "      <th>HMP</th>\n",
              "      <th>c3d</th>\n",
              "    </tr>\n",
              "  </thead>\n",
              "  <tbody>\n",
              "    <tr>\n",
              "      <th>0</th>\n",
              "      <td>8763</td>\n",
              "      <td>[0.00206, 0.000583, 1.1e-05, 0.0, 0.000395, 3....</td>\n",
              "      <td>[0.00017474, 0.00179736, 0.00043181, 0.0007523...</td>\n",
              "    </tr>\n",
              "    <tr>\n",
              "      <th>1</th>\n",
              "      <td>8758</td>\n",
              "      <td>[0.015623, 0.005571, 0.000267, 0.0, 0.003743, ...</td>\n",
              "      <td>[1.11e-06, 1.151e-05, 2.465e-05, 1.226e-05, 5....</td>\n",
              "    </tr>\n",
              "    <tr>\n",
              "      <th>2</th>\n",
              "      <td>8768</td>\n",
              "      <td>[0.00533, 0.001166, 2e-06, 0.0, 0.000927, 1.1e...</td>\n",
              "      <td>[0.00352624, 0.00137636, 0.04618705, 7.76e-06,...</td>\n",
              "    </tr>\n",
              "    <tr>\n",
              "      <th>3</th>\n",
              "      <td>8764</td>\n",
              "      <td>[0.040748, 0.016237, 0.000303, 0.0, 0.007668, ...</td>\n",
              "      <td>[0.00133935, 0.0002712, 0.00039588, 8.307e-05,...</td>\n",
              "    </tr>\n",
              "    <tr>\n",
              "      <th>4</th>\n",
              "      <td>8760</td>\n",
              "      <td>[0.056045, 0.012873, 0.000278, 0.0, 0.006645, ...</td>\n",
              "      <td>[0.0, 0.0, 0.0, 0.0, 0.99999964, 0.0, 0.0, 0.0...</td>\n",
              "    </tr>\n",
              "    <tr>\n",
              "      <th>...</th>\n",
              "      <td>...</td>\n",
              "      <td>...</td>\n",
              "      <td>...</td>\n",
              "    </tr>\n",
              "    <tr>\n",
              "      <th>1995</th>\n",
              "      <td>8750</td>\n",
              "      <td>[0.029441, 0.00459, 6.1e-05, 0.0, 0.004635, 4....</td>\n",
              "      <td>[0.00177784, 0.00017495, 4.677e-05, 0.26706579...</td>\n",
              "    </tr>\n",
              "    <tr>\n",
              "      <th>1996</th>\n",
              "      <td>8754</td>\n",
              "      <td>[0.008008, 0.002233, 6.6e-05, 0.0, 0.000694, 8...</td>\n",
              "      <td>[0.91409236, 0.00409621, 3.43e-06, 7e-07, 3.9e...</td>\n",
              "    </tr>\n",
              "    <tr>\n",
              "      <th>1997</th>\n",
              "      <td>8756</td>\n",
              "      <td>[0.045778, 0.008935, 0.000138, 0.0, 0.006778, ...</td>\n",
              "      <td>[0.00214498, 0.03588087, 0.00023955, 0.0, 1.72...</td>\n",
              "    </tr>\n",
              "    <tr>\n",
              "      <th>1998</th>\n",
              "      <td>8755</td>\n",
              "      <td>[0.009722, 0.001544, 9e-05, 0.0, 0.000899, 7e-...</td>\n",
              "      <td>[0.0002111, 0.00581559, 0.0002334, 0.00377348,...</td>\n",
              "    </tr>\n",
              "    <tr>\n",
              "      <th>1999</th>\n",
              "      <td>8757</td>\n",
              "      <td>[0.023544, 0.00575, 0.000264, 0.0, 0.003801, 0...</td>\n",
              "      <td>[0.00102729, 8.806e-05, 0.00010535, 6e-08, 1.1...</td>\n",
              "    </tr>\n",
              "  </tbody>\n",
              "</table>\n",
              "<p>2000 rows × 3 columns</p>\n",
              "</div>"
            ],
            "text/plain": [
              "     video  ...                                                c3d\n",
              "0     8763  ...  [0.00017474, 0.00179736, 0.00043181, 0.0007523...\n",
              "1     8758  ...  [1.11e-06, 1.151e-05, 2.465e-05, 1.226e-05, 5....\n",
              "2     8768  ...  [0.00352624, 0.00137636, 0.04618705, 7.76e-06,...\n",
              "3     8764  ...  [0.00133935, 0.0002712, 0.00039588, 8.307e-05,...\n",
              "4     8760  ...  [0.0, 0.0, 0.0, 0.0, 0.99999964, 0.0, 0.0, 0.0...\n",
              "...    ...  ...                                                ...\n",
              "1995  8750  ...  [0.00177784, 0.00017495, 4.677e-05, 0.26706579...\n",
              "1996  8754  ...  [0.91409236, 0.00409621, 3.43e-06, 7e-07, 3.9e...\n",
              "1997  8756  ...  [0.00214498, 0.03588087, 0.00023955, 0.0, 1.72...\n",
              "1998  8755  ...  [0.0002111, 0.00581559, 0.0002334, 0.00377348,...\n",
              "1999  8757  ...  [0.00102729, 8.806e-05, 0.00010535, 6e-08, 1.1...\n",
              "\n",
              "[2000 rows x 3 columns]"
            ]
          },
          "metadata": {
            "tags": []
          },
          "execution_count": 134
        }
      ]
    },
    {
      "cell_type": "code",
      "metadata": {
        "id": "T5LmYHvEB4Se"
      },
      "source": [
        "test_set_path = '/content/drive/My Drive/CA684_Assignment/Test-set/Ground-truth_test/'\n",
        "final_sub=pd.read_csv(test_set_path+'ground_truth_template.csv')\n"
      ],
      "execution_count": null,
      "outputs": []
    },
    {
      "cell_type": "code",
      "metadata": {
        "colab": {
          "base_uri": "https://localhost:8080/",
          "height": 402
        },
        "id": "HlKV3tB5ag4h",
        "outputId": "75088868-add7-4776-913b-f16c4c0a95c9"
      },
      "source": [
        "final_sub"
      ],
      "execution_count": null,
      "outputs": [
        {
          "output_type": "execute_result",
          "data": {
            "text/html": [
              "<div>\n",
              "<style scoped>\n",
              "    .dataframe tbody tr th:only-of-type {\n",
              "        vertical-align: middle;\n",
              "    }\n",
              "\n",
              "    .dataframe tbody tr th {\n",
              "        vertical-align: top;\n",
              "    }\n",
              "\n",
              "    .dataframe thead th {\n",
              "        text-align: right;\n",
              "    }\n",
              "</style>\n",
              "<table border=\"1\" class=\"dataframe\">\n",
              "  <thead>\n",
              "    <tr style=\"text-align: right;\">\n",
              "      <th></th>\n",
              "      <th>video</th>\n",
              "      <th>short-term_memorability</th>\n",
              "      <th>nb_short-term_annotations</th>\n",
              "      <th>long-term_memorability</th>\n",
              "      <th>nb_long-term_annotations</th>\n",
              "    </tr>\n",
              "  </thead>\n",
              "  <tbody>\n",
              "    <tr>\n",
              "      <th>0</th>\n",
              "      <td>7494</td>\n",
              "      <td>NaN</td>\n",
              "      <td>33</td>\n",
              "      <td>NaN</td>\n",
              "      <td>12</td>\n",
              "    </tr>\n",
              "    <tr>\n",
              "      <th>1</th>\n",
              "      <td>7495</td>\n",
              "      <td>NaN</td>\n",
              "      <td>34</td>\n",
              "      <td>NaN</td>\n",
              "      <td>10</td>\n",
              "    </tr>\n",
              "    <tr>\n",
              "      <th>2</th>\n",
              "      <td>7496</td>\n",
              "      <td>NaN</td>\n",
              "      <td>32</td>\n",
              "      <td>NaN</td>\n",
              "      <td>13</td>\n",
              "    </tr>\n",
              "    <tr>\n",
              "      <th>3</th>\n",
              "      <td>7497</td>\n",
              "      <td>NaN</td>\n",
              "      <td>33</td>\n",
              "      <td>NaN</td>\n",
              "      <td>10</td>\n",
              "    </tr>\n",
              "    <tr>\n",
              "      <th>4</th>\n",
              "      <td>7498</td>\n",
              "      <td>NaN</td>\n",
              "      <td>33</td>\n",
              "      <td>NaN</td>\n",
              "      <td>10</td>\n",
              "    </tr>\n",
              "    <tr>\n",
              "      <th>...</th>\n",
              "      <td>...</td>\n",
              "      <td>...</td>\n",
              "      <td>...</td>\n",
              "      <td>...</td>\n",
              "      <td>...</td>\n",
              "    </tr>\n",
              "    <tr>\n",
              "      <th>1995</th>\n",
              "      <td>10004</td>\n",
              "      <td>NaN</td>\n",
              "      <td>34</td>\n",
              "      <td>NaN</td>\n",
              "      <td>17</td>\n",
              "    </tr>\n",
              "    <tr>\n",
              "      <th>1996</th>\n",
              "      <td>10005</td>\n",
              "      <td>NaN</td>\n",
              "      <td>34</td>\n",
              "      <td>NaN</td>\n",
              "      <td>9</td>\n",
              "    </tr>\n",
              "    <tr>\n",
              "      <th>1997</th>\n",
              "      <td>10006</td>\n",
              "      <td>NaN</td>\n",
              "      <td>34</td>\n",
              "      <td>NaN</td>\n",
              "      <td>12</td>\n",
              "    </tr>\n",
              "    <tr>\n",
              "      <th>1998</th>\n",
              "      <td>10007</td>\n",
              "      <td>NaN</td>\n",
              "      <td>34</td>\n",
              "      <td>NaN</td>\n",
              "      <td>12</td>\n",
              "    </tr>\n",
              "    <tr>\n",
              "      <th>1999</th>\n",
              "      <td>10008</td>\n",
              "      <td>NaN</td>\n",
              "      <td>33</td>\n",
              "      <td>NaN</td>\n",
              "      <td>10</td>\n",
              "    </tr>\n",
              "  </tbody>\n",
              "</table>\n",
              "<p>2000 rows × 5 columns</p>\n",
              "</div>"
            ],
            "text/plain": [
              "      video  ...  nb_long-term_annotations\n",
              "0      7494  ...                        12\n",
              "1      7495  ...                        10\n",
              "2      7496  ...                        13\n",
              "3      7497  ...                        10\n",
              "4      7498  ...                        10\n",
              "...     ...  ...                       ...\n",
              "1995  10004  ...                        17\n",
              "1996  10005  ...                         9\n",
              "1997  10006  ...                        12\n",
              "1998  10007  ...                        12\n",
              "1999  10008  ...                        10\n",
              "\n",
              "[2000 rows x 5 columns]"
            ]
          },
          "metadata": {
            "tags": []
          },
          "execution_count": 93
        }
      ]
    },
    {
      "cell_type": "code",
      "metadata": {
        "colab": {
          "base_uri": "https://localhost:8080/",
          "height": 402
        },
        "id": "Ck66IAYWk02U",
        "outputId": "2153ca4e-5155-44bb-da9f-78d223d604ab"
      },
      "source": [
        "final_feature_hmp_C3D_test"
      ],
      "execution_count": null,
      "outputs": [
        {
          "output_type": "execute_result",
          "data": {
            "text/html": [
              "<div>\n",
              "<style scoped>\n",
              "    .dataframe tbody tr th:only-of-type {\n",
              "        vertical-align: middle;\n",
              "    }\n",
              "\n",
              "    .dataframe tbody tr th {\n",
              "        vertical-align: top;\n",
              "    }\n",
              "\n",
              "    .dataframe thead th {\n",
              "        text-align: right;\n",
              "    }\n",
              "</style>\n",
              "<table border=\"1\" class=\"dataframe\">\n",
              "  <thead>\n",
              "    <tr style=\"text-align: right;\">\n",
              "      <th></th>\n",
              "      <th>video</th>\n",
              "      <th>HMP</th>\n",
              "      <th>c3d</th>\n",
              "    </tr>\n",
              "  </thead>\n",
              "  <tbody>\n",
              "    <tr>\n",
              "      <th>0</th>\n",
              "      <td>8763</td>\n",
              "      <td>[0.00206, 0.000583, 1.1e-05, 0.0, 0.000395, 3....</td>\n",
              "      <td>[0.00017474, 0.00179736, 0.00043181, 0.0007523...</td>\n",
              "    </tr>\n",
              "    <tr>\n",
              "      <th>1</th>\n",
              "      <td>8758</td>\n",
              "      <td>[0.015623, 0.005571, 0.000267, 0.0, 0.003743, ...</td>\n",
              "      <td>[1.11e-06, 1.151e-05, 2.465e-05, 1.226e-05, 5....</td>\n",
              "    </tr>\n",
              "    <tr>\n",
              "      <th>2</th>\n",
              "      <td>8768</td>\n",
              "      <td>[0.00533, 0.001166, 2e-06, 0.0, 0.000927, 1.1e...</td>\n",
              "      <td>[0.00352624, 0.00137636, 0.04618705, 7.76e-06,...</td>\n",
              "    </tr>\n",
              "    <tr>\n",
              "      <th>3</th>\n",
              "      <td>8764</td>\n",
              "      <td>[0.040748, 0.016237, 0.000303, 0.0, 0.007668, ...</td>\n",
              "      <td>[0.00133935, 0.0002712, 0.00039588, 8.307e-05,...</td>\n",
              "    </tr>\n",
              "    <tr>\n",
              "      <th>4</th>\n",
              "      <td>8760</td>\n",
              "      <td>[0.056045, 0.012873, 0.000278, 0.0, 0.006645, ...</td>\n",
              "      <td>[0.0, 0.0, 0.0, 0.0, 0.99999964, 0.0, 0.0, 0.0...</td>\n",
              "    </tr>\n",
              "    <tr>\n",
              "      <th>...</th>\n",
              "      <td>...</td>\n",
              "      <td>...</td>\n",
              "      <td>...</td>\n",
              "    </tr>\n",
              "    <tr>\n",
              "      <th>1995</th>\n",
              "      <td>8750</td>\n",
              "      <td>[0.029441, 0.00459, 6.1e-05, 0.0, 0.004635, 4....</td>\n",
              "      <td>[0.00177784, 0.00017495, 4.677e-05, 0.26706579...</td>\n",
              "    </tr>\n",
              "    <tr>\n",
              "      <th>1996</th>\n",
              "      <td>8754</td>\n",
              "      <td>[0.008008, 0.002233, 6.6e-05, 0.0, 0.000694, 8...</td>\n",
              "      <td>[0.91409236, 0.00409621, 3.43e-06, 7e-07, 3.9e...</td>\n",
              "    </tr>\n",
              "    <tr>\n",
              "      <th>1997</th>\n",
              "      <td>8756</td>\n",
              "      <td>[0.045778, 0.008935, 0.000138, 0.0, 0.006778, ...</td>\n",
              "      <td>[0.00214498, 0.03588087, 0.00023955, 0.0, 1.72...</td>\n",
              "    </tr>\n",
              "    <tr>\n",
              "      <th>1998</th>\n",
              "      <td>8755</td>\n",
              "      <td>[0.009722, 0.001544, 9e-05, 0.0, 0.000899, 7e-...</td>\n",
              "      <td>[0.0002111, 0.00581559, 0.0002334, 0.00377348,...</td>\n",
              "    </tr>\n",
              "    <tr>\n",
              "      <th>1999</th>\n",
              "      <td>8757</td>\n",
              "      <td>[0.023544, 0.00575, 0.000264, 0.0, 0.003801, 0...</td>\n",
              "      <td>[0.00102729, 8.806e-05, 0.00010535, 6e-08, 1.1...</td>\n",
              "    </tr>\n",
              "  </tbody>\n",
              "</table>\n",
              "<p>2000 rows × 3 columns</p>\n",
              "</div>"
            ],
            "text/plain": [
              "     video  ...                                                c3d\n",
              "0     8763  ...  [0.00017474, 0.00179736, 0.00043181, 0.0007523...\n",
              "1     8758  ...  [1.11e-06, 1.151e-05, 2.465e-05, 1.226e-05, 5....\n",
              "2     8768  ...  [0.00352624, 0.00137636, 0.04618705, 7.76e-06,...\n",
              "3     8764  ...  [0.00133935, 0.0002712, 0.00039588, 8.307e-05,...\n",
              "4     8760  ...  [0.0, 0.0, 0.0, 0.0, 0.99999964, 0.0, 0.0, 0.0...\n",
              "...    ...  ...                                                ...\n",
              "1995  8750  ...  [0.00177784, 0.00017495, 4.677e-05, 0.26706579...\n",
              "1996  8754  ...  [0.91409236, 0.00409621, 3.43e-06, 7e-07, 3.9e...\n",
              "1997  8756  ...  [0.00214498, 0.03588087, 0.00023955, 0.0, 1.72...\n",
              "1998  8755  ...  [0.0002111, 0.00581559, 0.0002334, 0.00377348,...\n",
              "1999  8757  ...  [0.00102729, 8.806e-05, 0.00010535, 6e-08, 1.1...\n",
              "\n",
              "[2000 rows x 3 columns]"
            ]
          },
          "metadata": {
            "tags": []
          },
          "execution_count": 136
        }
      ]
    },
    {
      "cell_type": "code",
      "metadata": {
        "id": "wzuFxQd1lqXJ"
      },
      "source": [
        "\n",
        "X_hmp_C3D1_test=np.array(final_feature_hmp_C3D_test['HMP'].tolist())"
      ],
      "execution_count": null,
      "outputs": []
    },
    {
      "cell_type": "code",
      "metadata": {
        "id": "tBJ_U5Y1lqXs"
      },
      "source": [
        "X_hmp_C3D2_test=np.array(final_feature_hmp_C3D_test['c3d'].tolist())"
      ],
      "execution_count": null,
      "outputs": []
    },
    {
      "cell_type": "code",
      "metadata": {
        "id": "SOLVDpoQlqXt"
      },
      "source": [
        "X_hmp_C3D_fina_test=np.concatenate((X_hmp_C3D2_test,X_hmp_C3D1_test),axis=1)"
      ],
      "execution_count": null,
      "outputs": []
    },
    {
      "cell_type": "code",
      "metadata": {
        "id": "SAZuMWUoklcy"
      },
      "source": [
        "final_sub['short-term_memorability']=hmp_c3d_rf.predict(X_hmp_C3D_fina_test)\n"
      ],
      "execution_count": null,
      "outputs": []
    },
    {
      "cell_type": "code",
      "metadata": {
        "id": "rKv9E_pTmtl6"
      },
      "source": [
        "final_sub['long-term_memorability']=hmp_c3d_rf.predict(X_hmp_C3D_fina_test)"
      ],
      "execution_count": null,
      "outputs": []
    },
    {
      "cell_type": "code",
      "metadata": {
        "colab": {
          "base_uri": "https://localhost:8080/",
          "height": 402
        },
        "id": "auc4vncjmLVq",
        "outputId": "39576946-5cf1-418a-c433-ade5bd75ee30"
      },
      "source": [
        "final_sub"
      ],
      "execution_count": null,
      "outputs": [
        {
          "output_type": "execute_result",
          "data": {
            "text/html": [
              "<div>\n",
              "<style scoped>\n",
              "    .dataframe tbody tr th:only-of-type {\n",
              "        vertical-align: middle;\n",
              "    }\n",
              "\n",
              "    .dataframe tbody tr th {\n",
              "        vertical-align: top;\n",
              "    }\n",
              "\n",
              "    .dataframe thead th {\n",
              "        text-align: right;\n",
              "    }\n",
              "</style>\n",
              "<table border=\"1\" class=\"dataframe\">\n",
              "  <thead>\n",
              "    <tr style=\"text-align: right;\">\n",
              "      <th></th>\n",
              "      <th>video</th>\n",
              "      <th>short-term_memorability</th>\n",
              "      <th>nb_short-term_annotations</th>\n",
              "      <th>long-term_memorability</th>\n",
              "      <th>nb_long-term_annotations</th>\n",
              "    </tr>\n",
              "  </thead>\n",
              "  <tbody>\n",
              "    <tr>\n",
              "      <th>0</th>\n",
              "      <td>7494</td>\n",
              "      <td>0.826842</td>\n",
              "      <td>33</td>\n",
              "      <td>0.826842</td>\n",
              "      <td>12</td>\n",
              "    </tr>\n",
              "    <tr>\n",
              "      <th>1</th>\n",
              "      <td>7495</td>\n",
              "      <td>0.823570</td>\n",
              "      <td>34</td>\n",
              "      <td>0.823570</td>\n",
              "      <td>10</td>\n",
              "    </tr>\n",
              "    <tr>\n",
              "      <th>2</th>\n",
              "      <td>7496</td>\n",
              "      <td>0.834750</td>\n",
              "      <td>32</td>\n",
              "      <td>0.834750</td>\n",
              "      <td>13</td>\n",
              "    </tr>\n",
              "    <tr>\n",
              "      <th>3</th>\n",
              "      <td>7497</td>\n",
              "      <td>0.864410</td>\n",
              "      <td>33</td>\n",
              "      <td>0.864410</td>\n",
              "      <td>10</td>\n",
              "    </tr>\n",
              "    <tr>\n",
              "      <th>4</th>\n",
              "      <td>7498</td>\n",
              "      <td>0.889707</td>\n",
              "      <td>33</td>\n",
              "      <td>0.889707</td>\n",
              "      <td>10</td>\n",
              "    </tr>\n",
              "    <tr>\n",
              "      <th>...</th>\n",
              "      <td>...</td>\n",
              "      <td>...</td>\n",
              "      <td>...</td>\n",
              "      <td>...</td>\n",
              "      <td>...</td>\n",
              "    </tr>\n",
              "    <tr>\n",
              "      <th>1995</th>\n",
              "      <td>10004</td>\n",
              "      <td>0.877600</td>\n",
              "      <td>34</td>\n",
              "      <td>0.877600</td>\n",
              "      <td>17</td>\n",
              "    </tr>\n",
              "    <tr>\n",
              "      <th>1996</th>\n",
              "      <td>10005</td>\n",
              "      <td>0.893042</td>\n",
              "      <td>34</td>\n",
              "      <td>0.893042</td>\n",
              "      <td>9</td>\n",
              "    </tr>\n",
              "    <tr>\n",
              "      <th>1997</th>\n",
              "      <td>10006</td>\n",
              "      <td>0.885890</td>\n",
              "      <td>34</td>\n",
              "      <td>0.885890</td>\n",
              "      <td>12</td>\n",
              "    </tr>\n",
              "    <tr>\n",
              "      <th>1998</th>\n",
              "      <td>10007</td>\n",
              "      <td>0.874490</td>\n",
              "      <td>34</td>\n",
              "      <td>0.874490</td>\n",
              "      <td>12</td>\n",
              "    </tr>\n",
              "    <tr>\n",
              "      <th>1999</th>\n",
              "      <td>10008</td>\n",
              "      <td>0.875567</td>\n",
              "      <td>33</td>\n",
              "      <td>0.875567</td>\n",
              "      <td>10</td>\n",
              "    </tr>\n",
              "  </tbody>\n",
              "</table>\n",
              "<p>2000 rows × 5 columns</p>\n",
              "</div>"
            ],
            "text/plain": [
              "      video  ...  nb_long-term_annotations\n",
              "0      7494  ...                        12\n",
              "1      7495  ...                        10\n",
              "2      7496  ...                        13\n",
              "3      7497  ...                        10\n",
              "4      7498  ...                        10\n",
              "...     ...  ...                       ...\n",
              "1995  10004  ...                        17\n",
              "1996  10005  ...                         9\n",
              "1997  10006  ...                        12\n",
              "1998  10007  ...                        12\n",
              "1999  10008  ...                        10\n",
              "\n",
              "[2000 rows x 5 columns]"
            ]
          },
          "metadata": {
            "tags": []
          },
          "execution_count": 147
        }
      ]
    },
    {
      "cell_type": "code",
      "metadata": {
        "id": "zinRbG1xDO8W"
      },
      "source": [
        "final_sub.to_csv(r'/content/drive/My Drive/SubmissionML.csv',index=False,header=True)"
      ],
      "execution_count": null,
      "outputs": []
    }
  ]
}